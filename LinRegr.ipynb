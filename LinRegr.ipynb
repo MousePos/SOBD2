{
 "cells": [
  {
   "cell_type": "code",
   "execution_count": 1,
   "metadata": {},
   "outputs": [],
   "source": [
    "import os\n",
    "import csv\n",
    "from pyspark.sql import SparkSession, DataFrame\n",
    "from pyspark import SparkConf\n",
    "from pyspark.ml.feature import VectorAssembler, StringIndexer, OneHotEncoder, MinMaxScaler, Binarizer\n",
    "from pyspark.ml.regression import LinearRegression\n",
    "from pyspark.ml.evaluation import RegressionEvaluator\n",
    "from pyspark.ml.tuning import CrossValidator, CrossValidatorModel, ParamGridBuilder\n",
    "from pyspark.ml import Pipeline\n",
    "from pyspark.sql.functions import col\n",
    "from pyspark.sql.types import DoubleType\n",
    "import seaborn as sns\n",
    "import matplotlib.pyplot as plt"
   ]
  },
  {
   "cell_type": "code",
   "execution_count": 2,
   "metadata": {},
   "outputs": [],
   "source": [
    "def create_spark_configuration() -> SparkConf:\n",
    "    \"\"\"\n",
    "    Создает и конфигурирует экземпляр SparkConf для приложения Spark.\n",
    "\n",
    "    Returns:\n",
    "        SparkConf: Настроенный экземпляр SparkConf.\n",
    "    \"\"\"\n",
    "    # Получаем имя пользователя\n",
    "    user_name = os.getenv(\"USER\")\n",
    "    \n",
    "    conf = SparkConf()\n",
    "    conf.setAppName(\"lab 2 Test\")\n",
    "    conf.setMaster(\"yarn\")\n",
    "    conf.set(\"spark.submit.deployMode\", \"client\")\n",
    "    conf.set(\"spark.executor.memory\", \"12g\")\n",
    "    conf.set(\"spark.executor.cores\", \"8\")\n",
    "    conf.set(\"spark.executor.instances\", \"2\")\n",
    "    conf.set(\"spark.driver.memory\", \"4g\")\n",
    "    conf.set(\"spark.driver.cores\", \"2\")\n",
    "    conf.set(\"spark.jars.packages\", \"org.apache.iceberg:iceberg-spark-runtime-3.5_2.12:1.6.0\")\n",
    "    conf.set(\"spark.sql.extensions\", \"org.apache.iceberg.spark.extensions.IcebergSparkSessionExtensions\")\n",
    "    conf.set(\"spark.sql.catalog.spark_catalog\", \"org.apache.iceberg.spark.SparkCatalog\")\n",
    "    conf.set(\"spark.sql.catalog.spark_catalog.type\", \"hadoop\")\n",
    "    conf.set(\"spark.sql.catalog.spark_catalog.warehouse\", f\"hdfs:///user/{user_name}/warehouse\")\n",
    "    conf.set(\"spark.sql.catalog.spark_catalog.io-impl\", \"org.apache.iceberg.hadoop.HadoopFileIO\")\n",
    "\n",
    "    return conf"
   ]
  },
  {
   "cell_type": "code",
   "execution_count": 3,
   "metadata": {},
   "outputs": [],
   "source": [
    "conf = create_spark_configuration()"
   ]
  },
  {
   "cell_type": "code",
   "execution_count": 4,
   "metadata": {},
   "outputs": [
    {
     "name": "stdout",
     "output_type": "stream",
     "text": [
      ":: loading settings :: url = jar:file:/opt/spark-3.5.2-bin-hadoop3/jars/ivy-2.5.1.jar!/org/apache/ivy/core/settings/ivysettings.xml\n"
     ]
    },
    {
     "name": "stderr",
     "output_type": "stream",
     "text": [
      "Ivy Default Cache set to: /home/user1/.ivy2/cache\n",
      "The jars for the packages stored in: /home/user1/.ivy2/jars\n",
      "org.apache.iceberg#iceberg-spark-runtime-3.5_2.12 added as a dependency\n",
      ":: resolving dependencies :: org.apache.spark#spark-submit-parent-a37e9bd5-9f7a-456c-ae89-3ac0d079b5b8;1.0\n",
      "\tconfs: [default]\n",
      "\tfound org.apache.iceberg#iceberg-spark-runtime-3.5_2.12;1.6.0 in central\n",
      ":: resolution report :: resolve 584ms :: artifacts dl 24ms\n",
      "\t:: modules in use:\n",
      "\torg.apache.iceberg#iceberg-spark-runtime-3.5_2.12;1.6.0 from central in [default]\n",
      "\t---------------------------------------------------------------------\n",
      "\t|                  |            modules            ||   artifacts   |\n",
      "\t|       conf       | number| search|dwnlded|evicted|| number|dwnlded|\n",
      "\t---------------------------------------------------------------------\n",
      "\t|      default     |   1   |   0   |   0   |   0   ||   1   |   0   |\n",
      "\t---------------------------------------------------------------------\n",
      ":: retrieving :: org.apache.spark#spark-submit-parent-a37e9bd5-9f7a-456c-ae89-3ac0d079b5b8\n",
      "\tconfs: [default]\n",
      "\t0 artifacts copied, 1 already retrieved (0kB/26ms)\n",
      "Setting default log level to \"WARN\".\n",
      "To adjust logging level use sc.setLogLevel(newLevel). For SparkR, use setLogLevel(newLevel).\n",
      "25/01/18 01:37:50 WARN Client: Neither spark.yarn.jars nor spark.yarn.archive is set, falling back to uploading libraries under SPARK_HOME.\n",
      "25/01/18 01:38:13 WARN Client: Same path resource file:///home/user1/.ivy2/jars/org.apache.iceberg_iceberg-spark-runtime-3.5_2.12-1.6.0.jar added multiple times to distributed cache.\n"
     ]
    },
    {
     "data": {
      "text/html": [
       "\n",
       "            <div>\n",
       "                <p><b>SparkSession - in-memory</b></p>\n",
       "                \n",
       "        <div>\n",
       "            <p><b>SparkContext</b></p>\n",
       "\n",
       "            <p><a href=\"http://node32.cluster:4040\">Spark UI</a></p>\n",
       "\n",
       "            <dl>\n",
       "              <dt>Version</dt>\n",
       "                <dd><code>v3.5.2</code></dd>\n",
       "              <dt>Master</dt>\n",
       "                <dd><code>yarn</code></dd>\n",
       "              <dt>AppName</dt>\n",
       "                <dd><code>lab 2 Test</code></dd>\n",
       "            </dl>\n",
       "        </div>\n",
       "        \n",
       "            </div>\n",
       "        "
      ],
      "text/plain": [
       "<pyspark.sql.session.SparkSession at 0x7f40acaa4110>"
      ]
     },
     "execution_count": 4,
     "metadata": {},
     "output_type": "execute_result"
    }
   ],
   "source": [
    "spark = SparkSession.builder.config(conf=conf).getOrCreate()\n",
    "spark"
   ]
  },
  {
   "cell_type": "code",
   "execution_count": 5,
   "metadata": {},
   "outputs": [],
   "source": [
    "database_name = \"lopin_database2\""
   ]
  },
  {
   "cell_type": "code",
   "execution_count": 6,
   "metadata": {},
   "outputs": [],
   "source": [
    "spark.catalog.setCurrentDatabase(database_name)"
   ]
  },
  {
   "cell_type": "code",
   "execution_count": 18,
   "metadata": {},
   "outputs": [],
   "source": [
    "df = spark.table(\"sobd_lab1_processed_table\")"
   ]
  },
  {
   "cell_type": "code",
   "execution_count": 8,
   "metadata": {},
   "outputs": [
    {
     "name": "stderr",
     "output_type": "stream",
     "text": [
      "                                                                                \r"
     ]
    },
    {
     "name": "stdout",
     "output_type": "stream",
     "text": [
      "+----------+--------------------+----------+------+------+-----------+\n",
      "|product_id|       category_code|     brand| price|amount|PrefHalfDay|\n",
      "+----------+--------------------+----------+------+------+-----------+\n",
      "|   1002666|electronics.smart...|     honor|231.64|   417|          2|\n",
      "|   1003023|electronics.smart...|       htc|126.13|     8|          2|\n",
      "|   1003051|electronics.smart...|   samsung|599.66|   155|          2|\n",
      "|   1003079|electronics.smart...|    huawei|180.16|    22|          1|\n",
      "|   1003112|electronics.smart...|      sony|141.99|   706|          2|\n",
      "|   1003159|electronics.smart...|      sony|123.56|    60|          2|\n",
      "|   1003333|electronics.smart...|     apple|617.49|    44|          2|\n",
      "|   1003372|electronics.smart...|      sony|411.31|   136|          2|\n",
      "|   1003610|electronics.smart...|     meizu| 118.9|    50|          2|\n",
      "|   1003715|electronics.smart...|   samsung| 818.3|    13|          1|\n",
      "|   1003723|electronics.smart...|   tp-link|128.45|     1|          1|\n",
      "|   1003757|electronics.smart...|     nokia| 76.76|     3|          2|\n",
      "|   1003795|electronics.smart...|      oppo| 334.6|    16|          2|\n",
      "|   1003902|electronics.smart...|blackberry|375.56|     1|          2|\n",
      "|   1003938|electronics.smart...|     meizu|203.35|   365|          2|\n",
      "|   1004025|electronics.smart...|    xiaomi|136.43|     6|          1|\n",
      "|   1004093|electronics.smart...|     irbis| 57.62|   369|          2|\n",
      "|   1004104|electronics.smart...|        bq|174.53|   612|          2|\n",
      "|   1004130|electronics.smart...|    xiaomi|128.39|    18|          1|\n",
      "|   1004375|electronics.smart...|      oppo|254.58|   469|          2|\n",
      "+----------+--------------------+----------+------+------+-----------+\n",
      "only showing top 20 rows\n",
      "\n"
     ]
    }
   ],
   "source": [
    "df.show()"
   ]
  },
  {
   "cell_type": "code",
   "execution_count": 9,
   "metadata": {},
   "outputs": [
    {
     "name": "stdout",
     "output_type": "stream",
     "text": [
      "root\n",
      " |-- product_id: integer (nullable = true)\n",
      " |-- category_code: string (nullable = true)\n",
      " |-- brand: string (nullable = true)\n",
      " |-- price: float (nullable = true)\n",
      " |-- amount: long (nullable = true)\n",
      " |-- PrefHalfDay: string (nullable = true)\n",
      "\n"
     ]
    }
   ],
   "source": [
    "df.printSchema()"
   ]
  },
  {
   "cell_type": "code",
   "execution_count": 10,
   "metadata": {},
   "outputs": [
    {
     "name": "stderr",
     "output_type": "stream",
     "text": [
      "                                                                                \r"
     ]
    },
    {
     "data": {
      "text/plain": [
       "160520"
      ]
     },
     "execution_count": 10,
     "metadata": {},
     "output_type": "execute_result"
    }
   ],
   "source": [
    "df.count()"
   ]
  },
  {
   "cell_type": "code",
   "execution_count": 19,
   "metadata": {},
   "outputs": [],
   "source": [
    "df = df.withColumn(\"PrefHalfDay\",\n",
    "                        col(\"PrefHalfDay\").cast(\"Integer\"))"
   ]
  },
  {
   "cell_type": "code",
   "execution_count": 20,
   "metadata": {},
   "outputs": [
    {
     "name": "stdout",
     "output_type": "stream",
     "text": [
      "root\n",
      " |-- product_id: integer (nullable = true)\n",
      " |-- category_code: string (nullable = true)\n",
      " |-- brand: string (nullable = true)\n",
      " |-- price: float (nullable = true)\n",
      " |-- amount: long (nullable = true)\n",
      " |-- PrefHalfDay: integer (nullable = true)\n",
      "\n"
     ]
    }
   ],
   "source": [
    "df.printSchema()"
   ]
  },
  {
   "cell_type": "code",
   "execution_count": 24,
   "metadata": {},
   "outputs": [],
   "source": [
    "train_df, test_df = df.randomSplit([0.8, 0.2])"
   ]
  },
  {
   "cell_type": "code",
   "execution_count": 25,
   "metadata": {},
   "outputs": [
    {
     "name": "stderr",
     "output_type": "stream",
     "text": [
      "                                                                                \r"
     ]
    },
    {
     "name": "stdout",
     "output_type": "stream",
     "text": [
      "Train dataset size: 128381\n"
     ]
    },
    {
     "name": "stderr",
     "output_type": "stream",
     "text": [
      "[Stage 14:===========>                                              (1 + 4) / 5]\r"
     ]
    },
    {
     "name": "stdout",
     "output_type": "stream",
     "text": [
      "Test  dataset size: 32139\n"
     ]
    },
    {
     "name": "stderr",
     "output_type": "stream",
     "text": [
      "                                                                                \r"
     ]
    }
   ],
   "source": [
    "print(f\"Train dataset size: {train_df.count()}\")\n",
    "print(f\"Test  dataset size: {test_df.count()}\")"
   ]
  },
  {
   "cell_type": "code",
   "execution_count": 13,
   "metadata": {},
   "outputs": [],
   "source": [
    "categorical_features = [\"category_code\", \"brand\"]\n",
    "binary_features = [\"PrefHalfDay\"]\n",
    "numeric_features = [\"amount\"]"
   ]
  },
  {
   "cell_type": "code",
   "execution_count": 21,
   "metadata": {},
   "outputs": [],
   "source": [
    "def create_pipeline(categorical_features: list[str], numeric_features: list[str],  \n",
    "                    binary_features: list[str], label_col: str, max_iter: int) -> Pipeline:\n",
    "    \n",
    "    # Формируем названия колонок для преобразованных категориальных признаков\n",
    "    indexed_categorical_features = [f\"{feature}_index\" for feature in categorical_features]\n",
    "    \n",
    "    # Выполняем преобразования данных\n",
    "    string_indexer = StringIndexer(\n",
    "        inputCols=categorical_features,\n",
    "        outputCols=indexed_categorical_features,\n",
    "        handleInvalid=\"keep\"\n",
    "    )\n",
    "    vector_num_assembler = VectorAssembler(\n",
    "        inputCols=numeric_features,\n",
    "        outputCol=\"numeric_vector\"\n",
    "    )\n",
    "    numeric_scaler = MinMaxScaler(\n",
    "        inputCol=\"numeric_vector\",\n",
    "        outputCol=\"numeric_vector_scaled\"\n",
    "    )\n",
    "    vector_all_assembler = VectorAssembler(\n",
    "        inputCols=(indexed_categorical_features + binary_features + [\"numeric_vector_scaled\"]),\n",
    "        outputCol=\"features\"\n",
    "    )\n",
    "\n",
    "    # Создаем модель линейной регрессии\n",
    "    linear_regression = LinearRegression(\n",
    "        featuresCol=\"features\",\n",
    "        labelCol=label_col,\n",
    "        predictionCol=\"prediction\",\n",
    "        standardization=False,\n",
    "        maxIter=max_iter\n",
    "    )\n",
    "\n",
    "    # Создаем конвейер\n",
    "    pipeline = Pipeline(stages=[\n",
    "        string_indexer, vector_num_assembler,\n",
    "        numeric_scaler, vector_all_assembler,\n",
    "        linear_regression\n",
    "    ])\n",
    "\n",
    "    return pipeline"
   ]
  },
  {
   "cell_type": "code",
   "execution_count": 23,
   "metadata": {},
   "outputs": [],
   "source": [
    "pipeline = create_pipeline(categorical_features=categorical_features,\n",
    "                           numeric_features=numeric_features,\n",
    "                           binary_features=binary_features,\n",
    "                           label_col=\"price\",\n",
    "                           max_iter=15)"
   ]
  },
  {
   "cell_type": "code",
   "execution_count": 26,
   "metadata": {},
   "outputs": [],
   "source": [
    "param_grid = ParamGridBuilder() \\\n",
    "    .addGrid(pipeline.getStages()[-1].regParam, [0.01, 0.1, 1.0]) \\\n",
    "    .addGrid(pipeline.getStages()[-1].elasticNetParam, [0.0, 0.5, 1.0]) \\\n",
    "    .build()"
   ]
  },
  {
   "cell_type": "code",
   "execution_count": 27,
   "metadata": {},
   "outputs": [],
   "source": [
    "cv_evaluator = RegressionEvaluator(labelCol=\"price\",\n",
    "                                   predictionCol=\"prediction\",\n",
    "                                   metricName=\"rmse\")"
   ]
  },
  {
   "cell_type": "code",
   "execution_count": 28,
   "metadata": {},
   "outputs": [],
   "source": [
    "cross_validator = CrossValidator(estimator=pipeline,\n",
    "                                 estimatorParamMaps=param_grid,\n",
    "                                 evaluator=cv_evaluator,\n",
    "                                 numFolds=5)"
   ]
  },
  {
   "cell_type": "code",
   "execution_count": 29,
   "metadata": {},
   "outputs": [
    {
     "name": "stderr",
     "output_type": "stream",
     "text": [
      "25/01/18 02:18:38 WARN InstanceBuilder: Failed to load implementation from:dev.ludovic.netlib.blas.JNIBLAS\n",
      "25/01/18 02:18:39 WARN InstanceBuilder: Failed to load implementation from:dev.ludovic.netlib.lapack.JNILAPACK\n",
      "                                                                                \r"
     ]
    }
   ],
   "source": [
    "cv_model = cross_validator.fit(train_df)"
   ]
  },
  {
   "cell_type": "code",
   "execution_count": 30,
   "metadata": {},
   "outputs": [],
   "source": [
    "def get_best_model_params(cv_model: CrossValidatorModel) -> dict[str, float]:\n",
    "    \"\"\"\n",
    "    Получает параметры лучшей модели из объекта CrossValidatorModel.\n",
    "\n",
    "    Args:\n",
    "        cv_model (CrossValidatorModel): Объект CrossValidatorModel, \n",
    "            содержащий лучшую модель.\n",
    "\n",
    "    Returns:\n",
    "        Dict[str, float]: Параметры лучшей модели.\n",
    "    \"\"\"\n",
    "    best_model = cv_model.bestModel\n",
    "    best_params = {\n",
    "        \"regParam\": best_model.stages[-1].getRegParam(),\n",
    "        \"elasticNetParam\": best_model.stages[-1].getElasticNetParam(),\n",
    "        \"maxIter\": best_model.stages[-1].getMaxIter()\n",
    "    }\n",
    "    return best_params"
   ]
  },
  {
   "cell_type": "code",
   "execution_count": 31,
   "metadata": {},
   "outputs": [
    {
     "name": "stdout",
     "output_type": "stream",
     "text": [
      "regParam: 0.01\n",
      "elasticNetParam: 0.0\n",
      "maxIter: 15\n"
     ]
    }
   ],
   "source": [
    "for key, value in get_best_model_params(cv_model=cv_model).items():\n",
    "    print(f\"{key}: {value}\")"
   ]
  },
  {
   "cell_type": "code",
   "execution_count": 32,
   "metadata": {},
   "outputs": [],
   "source": [
    "def plot_training_summary(cv_model: DataFrame) -> None:\n",
    "    \"\"\"\n",
    "    Отображает графики зависимости значения ошибки от номера итерации на\n",
    "    обучающей выборке, а также значения метрик RMSE и R^2.\n",
    "\n",
    "    Args:\n",
    "        cv_model (DataFrame): Обученная модель с использованием кросс-валидации.\n",
    "    \"\"\"\n",
    "    # Получаем лучшую модель\n",
    "    best_model = cv_model.bestModel\n",
    "\n",
    "    # Получаем информацию о процессе обучения\n",
    "    training_summary = best_model.stages[-1].summary\n",
    "\n",
    "    # Получаем значения ошибки для каждой итерации\n",
    "    objective_history = training_summary.objectiveHistory\n",
    "\n",
    "    # Строим график зависимости значения ошибки от номера итерации\n",
    "    plt.figure(figsize=(10, 6))\n",
    "    sns.lineplot(x=range(len(objective_history)), \n",
    "                 y=objective_history, \n",
    "                 marker='o')\n",
    "    plt.xlabel('Итерация')\n",
    "    plt.ylabel('Ошибка')\n",
    "    plt.title(\"Зависимость значения функции ошибки от номера итерации\")\n",
    "\n",
    "    # Получаем значения метрик\n",
    "    rmse = training_summary.rootMeanSquaredError\n",
    "    r2 = training_summary.r2\n",
    "\n",
    "    # Добавляем значения метрик на график\n",
    "    plt.text(0.95, 0.95, f\"RMSE: {rmse:.2f}\\nR^2: {r2:.2f}\",\n",
    "             transform=plt.gca().transAxes, ha='right', va='top',\n",
    "             bbox=dict(facecolor='white', alpha=0.8), zorder=5)\n",
    "    plt.grid()\n",
    "\n",
    "    plt.show()"
   ]
  },
  {
   "cell_type": "code",
   "execution_count": 33,
   "metadata": {},
   "outputs": [
    {
     "data": {
      "image/png": "[encoded data removed]",
      "text/plain": [
       "<Figure size 1000x600 with 1 Axes>"
      ]
     },
     "metadata": {},
     "output_type": "display_data"
    }
   ],
   "source": [
    "plot_training_summary(cv_model)"
   ]
  },
  {
   "cell_type": "code",
   "execution_count": 34,
   "metadata": {},
   "outputs": [
    {
     "name": "stdout",
     "output_type": "stream",
     "text": [
      "+----------+--------------------+-------+------+-----------+-------------------+-----------+--------------+---------------------+--------------------+------------------+-------+\n",
      "|product_id|       category_code|  brand|amount|PrefHalfDay|category_code_index|brand_index|numeric_vector|numeric_vector_scaled|            features|        prediction|  price|\n",
      "+----------+--------------------+-------+------+-----------+-------------------+-----------+--------------+---------------------+--------------------+------------------+-------+\n",
      "|   1002328|electronics.smart...|     lg|     2|          1|               32.0|       52.0|         [2.0]| [0.00100200400801...|[32.0,52.0,1.0,0....|172.30527984113334|  25.71|\n",
      "|   1002415|electronics.smart...|   sony|   161|          2|               32.0|       14.0|       [161.0]| [0.16032064128256...|[32.0,14.0,2.0,0....|207.16741037373612| 293.11|\n",
      "|   1002662|electronics.smart...| xiaomi|   543|          2|               32.0|       21.0|       [543.0]| [0.5430861723446894]|[32.0,21.0,2.0,0....| 240.4101619053904| 203.09|\n",
      "|   1002870|electronics.smart...| gionee|     2|          1|               32.0|     1095.0|         [2.0]| [0.00100200400801...|[32.0,1095.0,1.0,...| 182.3270236599132|  64.09|\n",
      "|   1003051|electronics.smart...|samsung|   155|          2|               32.0|       12.0|       [155.0]| [0.15430861723446...|[32.0,12.0,2.0,0....|206.62711220513705| 599.66|\n",
      "|   1003159|electronics.smart...|   sony|    60|          2|               32.0|       14.0|        [60.0]| [0.05911823647294...|[32.0,14.0,2.0,0....|198.39587989701226| 123.56|\n",
      "|   1003786|electronics.smart...| doogee|     6|          2|               32.0|      869.0|         [6.0]| [0.00501002004008...|[32.0,869.0,2.0,0...|201.92148243311522| 180.16|\n",
      "|   1003937|electronics.smart...| xiaomi|    58|          1|               32.0|       21.0|        [58.0]| [0.05711422845691...|[32.0,21.0,1.0,0....| 176.8708368519256| 180.16|\n",
      "|   1003962|electronics.smart...|  nokia|     2|          2|               32.0|      427.0|         [2.0]| [0.00100200400801...|[32.0,427.0,2.0,0...| 197.3271048977606| 128.42|\n",
      "|   1003981|electronics.smart...| doogee|   427|          2|               32.0|      869.0|       [427.0]| [0.42685370741482...|[32.0,869.0,2.0,0...| 238.4840005588652|  71.38|\n",
      "|   1004025|electronics.smart...| xiaomi|     6|          1|               32.0|       21.0|         [6.0]| [0.00501002004008...|[32.0,21.0,1.0,0....|172.35480135895884| 136.43|\n",
      "|   1004089|electronics.smart...|     bq|    97|          2|               32.0|       91.0|        [97.0]| [0.09619238476953...|[32.0,91.0,2.0,0....|202.34907312585426|  97.16|\n",
      "|   1004095|electronics.smart...|  irbis|   184|          2|               32.0|      424.0|       [184.0]| [0.18336673346693...|[32.0,424.0,2.0,0...|213.10440339787445|  57.54|\n",
      "|   1004104|electronics.smart...|     bq|   612|          2|               32.0|       91.0|       [612.0]| [0.6122244488977956]|[32.0,91.0,2.0,0....|247.07519387350567| 174.53|\n",
      "|   1004111|electronics.smart...|     bq|    98|          2|               32.0|       91.0|        [98.0]| [0.0971943887775551]|[32.0,91.0,2.0,0....|202.43591996225746| 121.73|\n",
      "|   1004168|electronics.smart...|samsung|   283|          2|               32.0|       12.0|       [283.0]|  [0.282565130260521]|[32.0,12.0,2.0,0....| 217.7435072647475|  179.9|\n",
      "|   1004254|electronics.smart...|  apple|   919|          2|               32.0|       50.0|       [919.0]| [0.9198396793587174]|[32.0,50.0,2.0,0....| 273.3432210706036|1116.22|\n",
      "|   1004305|electronics.smart...|  jinga|   177|          2|               32.0|     1105.0|       [177.0]| [0.17635270541082...|[32.0,1105.0,2.0,...|219.03991517928313|  64.33|\n",
      "|   1004357|electronics.smart...|  apple|   948|          2|               32.0|       50.0|       [948.0]| [0.9488977955911823]|[32.0,50.0,2.0,0....| 275.8617793262966|1338.52|\n",
      "|   1004389|electronics.smart...|   sony|   335|          2|               32.0|       14.0|       [335.0]| [0.33466933867735...|[32.0,14.0,2.0,0....|222.27875990789408| 694.74|\n",
      "+----------+--------------------+-------+------+-----------+-------------------+-----------+--------------+---------------------+--------------------+------------------+-------+\n",
      "only showing top 20 rows\n",
      "\n"
     ]
    },
    {
     "name": "stderr",
     "output_type": "stream",
     "text": [
      "                                                                                \r"
     ]
    }
   ],
   "source": [
    "# Получаем датасет предсказаний\n",
    "test_df_predictions = cv_model.transform(test_df)\n",
    "\n",
    "# Извлекаем список колонок, устанавливаем цену на последнее место\n",
    "right_columns_order = test_df_predictions.columns\n",
    "right_columns_order.remove(\"price\")\n",
    "right_columns_order.append(\"price\")\n",
    "\n",
    "# Изменяем последовательность колонок и выводим датафрейм\n",
    "test_df_predictions = test_df_predictions.select(*right_columns_order)\n",
    "test_df_predictions.show()"
   ]
  },
  {
   "cell_type": "code",
   "execution_count": 35,
   "metadata": {},
   "outputs": [],
   "source": [
    "def evaluate_model(data: DataFrame, metric_name: str) -> float:\n",
    "    \"\"\"\n",
    "    Оценивает модель с использованием указанной метрики.\n",
    "\n",
    "    Args:\n",
    "        data (DataFrame): DataFrame, содержащий предсказания и фактические метки.\n",
    "        metric_name (str): Название метрики для оценки (например, \"rmse\", \"r2\").\n",
    "\n",
    "    Returns:\n",
    "        float: Значение указанной метрики.\n",
    "    \"\"\"\n",
    "    evaluator = RegressionEvaluator(labelCol=\"price\", \n",
    "                                    predictionCol=\"prediction\", \n",
    "                                    metricName=metric_name)\n",
    "    metric_value = evaluator.evaluate(data)\n",
    "    return metric_value"
   ]
  },
  {
   "cell_type": "code",
   "execution_count": 36,
   "metadata": {},
   "outputs": [
    {
     "name": "stderr",
     "output_type": "stream",
     "text": [
      "                                                                                \r"
     ]
    },
    {
     "name": "stdout",
     "output_type": "stream",
     "text": [
      "RMSE on test data: 262.01\n",
      "R^2 on test data: 0.03\n"
     ]
    },
    {
     "name": "stderr",
     "output_type": "stream",
     "text": [
      "                                                                                \r"
     ]
    }
   ],
   "source": [
    "test_rmse = evaluate_model(test_df_predictions, \"rmse\")\n",
    "test_r2 = evaluate_model(test_df_predictions, \"r2\")\n",
    "\n",
    "print(f\"RMSE on test data: {test_rmse:.2f}\")\n",
    "print(f\"R^2 on test data: {test_r2:.2f}\")"
   ]
  }
 ],
 "metadata": {
  "kernelspec": {
   "display_name": "pyspark-env",
   "language": "python",
   "name": "python3"
  },
  "language_info": {
   "codemirror_mode": {
    "name": "ipython",
    "version": 3
   },
   "file_extension": ".py",
   "mimetype": "text/x-python",
   "name": "python",
   "nbconvert_exporter": "python",
   "pygments_lexer": "ipython3",
   "version": "3.11.9"
  }
 },
 "nbformat": 4,
 "nbformat_minor": 2
}
