{
 "cells": [
  {
   "cell_type": "code",
   "execution_count": 50,
   "metadata": {},
   "outputs": [],
   "source": [
    "import os\n",
    "import numpy as np\n",
    "import pandas as pd\n",
    "import seaborn as sns\n",
    "import matplotlib.pyplot as plt\n",
    "from pyspark.sql import SparkSession, DataFrame\n",
    "from pyspark import SparkConf\n",
    "from pyspark.ml.feature import VectorAssembler, StringIndexer, Binarizer, Bucketizer\n",
    "from pyspark.ml.functions import vector_to_array\n",
    "from pyspark.ml.classification import GBTClassifier, GBTClassificationModel\n",
    "from pyspark.ml.evaluation import BinaryClassificationEvaluator\n",
    "from pyspark.ml.tuning import CrossValidator, CrossValidatorModel, ParamGridBuilder\n",
    "from pyspark.ml import Pipeline\n",
    "from pyspark.sql import functions as F\n",
    "from pyspark.sql.types import DoubleType, IntegerType\n",
    "from pyspark.sql import Window\n",
    "from pyspark.sql.functions import to_date, col, weekday, max, dayofweek, split, count_distinct"
   ]
  },
  {
   "cell_type": "code",
   "execution_count": 16,
   "metadata": {},
   "outputs": [],
   "source": [
    "def create_spark_configuration() -> SparkConf:\n",
    "    \"\"\"\n",
    "    Создает и конфигурирует экземпляр SparkConf для приложения Spark.\n",
    "\n",
    "    Returns:\n",
    "        SparkConf: Настроенный экземпляр SparkConf.\n",
    "    \"\"\"\n",
    "    # Получаем имя пользователя\n",
    "    user_name = os.getenv(\"USER\")\n",
    "    \n",
    "    conf = SparkConf()\n",
    "    conf.setAppName(\"lab 2 Test\")\n",
    "    conf.setMaster(\"yarn\")\n",
    "    conf.set(\"spark.submit.deployMode\", \"client\")\n",
    "    conf.set(\"spark.executor.memory\", \"12g\")\n",
    "    conf.set(\"spark.executor.cores\", \"8\")\n",
    "    conf.set(\"spark.executor.instances\", \"2\")\n",
    "    conf.set(\"spark.driver.memory\", \"4g\")\n",
    "    conf.set(\"spark.driver.cores\", \"2\")\n",
    "    conf.set(\"spark.jars.packages\", \"org.apache.iceberg:iceberg-spark-runtime-3.5_2.12:1.6.0\")\n",
    "    conf.set(\"spark.sql.extensions\", \"org.apache.iceberg.spark.extensions.IcebergSparkSessionExtensions\")\n",
    "    conf.set(\"spark.sql.catalog.spark_catalog\", \"org.apache.iceberg.spark.SparkCatalog\")\n",
    "    conf.set(\"spark.sql.catalog.spark_catalog.type\", \"hadoop\")\n",
    "    conf.set(\"spark.sql.catalog.spark_catalog.warehouse\", f\"hdfs:///user/{user_name}/warehouse\")\n",
    "    conf.set(\"spark.sql.catalog.spark_catalog.io-impl\", \"org.apache.iceberg.hadoop.HadoopFileIO\")\n",
    "\n",
    "    return conf"
   ]
  },
  {
   "cell_type": "code",
   "execution_count": 17,
   "metadata": {},
   "outputs": [],
   "source": [
    "conf = create_spark_configuration()"
   ]
  },
  {
   "cell_type": "code",
   "execution_count": 18,
   "metadata": {},
   "outputs": [
    {
     "name": "stderr",
     "output_type": "stream",
     "text": [
      "25/01/18 07:18:11 WARN Utils: Service 'SparkUI' could not bind on port 4040. Attempting port 4041.\n",
      "25/01/18 07:18:12 WARN Client: Neither spark.yarn.jars nor spark.yarn.archive is set, falling back to uploading libraries under SPARK_HOME.\n",
      "25/01/18 07:18:32 WARN Client: Same path resource file:///home/user1/.ivy2/jars/org.apache.iceberg_iceberg-spark-runtime-3.5_2.12-1.6.0.jar added multiple times to distributed cache.\n"
     ]
    },
    {
     "data": {
      "text/html": [
       "\n",
       "            <div>\n",
       "                <p><b>SparkSession - in-memory</b></p>\n",
       "                \n",
       "        <div>\n",
       "            <p><b>SparkContext</b></p>\n",
       "\n",
       "            <p><a href=\"http://node32.cluster:4041\">Spark UI</a></p>\n",
       "\n",
       "            <dl>\n",
       "              <dt>Version</dt>\n",
       "                <dd><code>v3.5.2</code></dd>\n",
       "              <dt>Master</dt>\n",
       "                <dd><code>yarn</code></dd>\n",
       "              <dt>AppName</dt>\n",
       "                <dd><code>lab 2 Test</code></dd>\n",
       "            </dl>\n",
       "        </div>\n",
       "        \n",
       "            </div>\n",
       "        "
      ],
      "text/plain": [
       "<pyspark.sql.session.SparkSession at 0x7fc825fd9d90>"
      ]
     },
     "execution_count": 18,
     "metadata": {},
     "output_type": "execute_result"
    }
   ],
   "source": [
    "spark = SparkSession.builder.config(conf=conf).getOrCreate()\n",
    "spark"
   ]
  },
  {
   "cell_type": "code",
   "execution_count": 19,
   "metadata": {},
   "outputs": [],
   "source": [
    "database_name = \"lopin_database2\""
   ]
  },
  {
   "cell_type": "code",
   "execution_count": 20,
   "metadata": {},
   "outputs": [],
   "source": [
    "spark.catalog.setCurrentDatabase(database_name)"
   ]
  },
  {
   "cell_type": "code",
   "execution_count": 21,
   "metadata": {},
   "outputs": [],
   "source": [
    "df = spark.table(\"sobd_lab2\")"
   ]
  },
  {
   "cell_type": "code",
   "execution_count": 22,
   "metadata": {},
   "outputs": [
    {
     "name": "stdout",
     "output_type": "stream",
     "text": [
      "root\n",
      " |-- user_session: string (nullable = true)\n",
      " |-- event_time: string (nullable = true)\n",
      " |-- event_type: string (nullable = true)\n",
      " |-- product_id: string (nullable = true)\n",
      " |-- category_id: string (nullable = true)\n",
      " |-- category_code: string (nullable = true)\n",
      " |-- brand: string (nullable = true)\n",
      " |-- price: double (nullable = true)\n",
      " |-- user_id: string (nullable = true)\n",
      " |-- event_date: date (nullable = true)\n",
      " |-- is_purchased: integer (nullable = true)\n",
      " |-- event_weekday: integer (nullable = true)\n",
      " |-- activity_count: long (nullable = true)\n",
      "\n"
     ]
    }
   ],
   "source": [
    "df.printSchema()"
   ]
  },
  {
   "cell_type": "code",
   "execution_count": 23,
   "metadata": {},
   "outputs": [
    {
     "name": "stderr",
     "output_type": "stream",
     "text": [
      "                                                                                \r"
     ]
    },
    {
     "data": {
      "text/plain": [
       "546600"
      ]
     },
     "execution_count": 23,
     "metadata": {},
     "output_type": "execute_result"
    }
   ],
   "source": [
    "df.count()"
   ]
  },
  {
   "cell_type": "code",
   "execution_count": 24,
   "metadata": {},
   "outputs": [],
   "source": [
    "def stratified_train_test_split(data: DataFrame, \n",
    "                                label_col: str,\n",
    "                                ratio: float) -> tuple[DataFrame, DataFrame]:\n",
    "    \"\"\"\n",
    "    Разделяет DataFrame на тренировочный и тестовый наборы с учетом стратификации.\n",
    "\n",
    "    Args:\n",
    "        data: Исходный DataFrame.\n",
    "        label_col: Название столбца с меткой.\n",
    "        ratio: Пропорция разделения данных.\n",
    "\n",
    "    Returns:\n",
    "        tuple[DataFrame, DataFrame]: Кортеж из тренировочного и тестового DataFrame.\n",
    "    \"\"\"\n",
    "    # Проверяем корректность доли разделения\n",
    "    assert (isinstance(ratio, float) and (0.0 <= ratio <= 1.0))\n",
    "    \n",
    "    # Формируем разделение для положительных и отрицательных объектов раздельно\n",
    "    train_df_pos, test_df_pos = (data\n",
    "                                 .filter(F.col(label_col) == 1)\n",
    "                                 .randomSplit([ratio, 1 - ratio]))\n",
    "    train_df_neg, test_df_neg = (data\n",
    "                                 .filter(F.col(label_col) == 0)\n",
    "                                 .randomSplit([ratio, 1 - ratio]))\n",
    "    \n",
    "    # Объединяем датафреймы\n",
    "    return (train_df_pos.union(train_df_neg),\n",
    "            test_df_pos.union(test_df_neg))"
   ]
  },
  {
   "cell_type": "code",
   "execution_count": 25,
   "metadata": {},
   "outputs": [],
   "source": [
    "train_df, test_df = stratified_train_test_split(df, \"is_purchased\", 0.8)"
   ]
  },
  {
   "cell_type": "code",
   "execution_count": 26,
   "metadata": {},
   "outputs": [
    {
     "name": "stderr",
     "output_type": "stream",
     "text": [
      "                                                                                \r"
     ]
    },
    {
     "name": "stdout",
     "output_type": "stream",
     "text": [
      "Train dataset size: 437150\n"
     ]
    },
    {
     "name": "stderr",
     "output_type": "stream",
     "text": [
      "[Stage 7:==============================================>           (8 + 2) / 10]\r"
     ]
    },
    {
     "name": "stdout",
     "output_type": "stream",
     "text": [
      "Test  dataset size: 109450\n"
     ]
    },
    {
     "name": "stderr",
     "output_type": "stream",
     "text": [
      "                                                                                \r"
     ]
    }
   ],
   "source": [
    "train_df = train_df.cache()\n",
    "test_df = test_df.cache()\n",
    "\n",
    "print(f\"Train dataset size: {train_df.count()}\")\n",
    "print(f\"Test  dataset size: {test_df.count()}\")"
   ]
  },
  {
   "cell_type": "code",
   "execution_count": 27,
   "metadata": {},
   "outputs": [
    {
     "name": "stderr",
     "output_type": "stream",
     "text": [
      "[Stage 11:==================================>                      (6 + 4) / 10]\r"
     ]
    },
    {
     "name": "stdout",
     "output_type": "stream",
     "text": [
      "+------------+------+\n",
      "|is_purchased| count|\n",
      "+------------+------+\n",
      "|           1|219088|\n",
      "|           0|218062|\n",
      "+------------+------+\n",
      "\n"
     ]
    },
    {
     "name": "stderr",
     "output_type": "stream",
     "text": [
      "                                                                                \r"
     ]
    }
   ],
   "source": [
    "train_df.groupBy(\"is_purchased\").count().show()"
   ]
  },
  {
   "cell_type": "code",
   "execution_count": 43,
   "metadata": {},
   "outputs": [],
   "source": [
    "categorical_features = [\"category_code\", \"brand\", \"event_weekday\"]\n",
    "numeric_features = [\"activity_count\", \"price\"]"
   ]
  },
  {
   "cell_type": "code",
   "execution_count": 54,
   "metadata": {},
   "outputs": [
    {
     "data": {
      "text/plain": [
       "89"
      ]
     },
     "execution_count": 54,
     "metadata": {},
     "output_type": "execute_result"
    }
   ],
   "source": [
    "df.select(\"category_code\").distinct().count()"
   ]
  },
  {
   "cell_type": "code",
   "execution_count": 55,
   "metadata": {},
   "outputs": [
    {
     "name": "stderr",
     "output_type": "stream",
     "text": [
      "                                                                                \r"
     ]
    },
    {
     "data": {
      "text/plain": [
       "369"
      ]
     },
     "execution_count": 55,
     "metadata": {},
     "output_type": "execute_result"
    }
   ],
   "source": [
    "df.select(\"brand\").distinct().count()"
   ]
  },
  {
   "cell_type": "code",
   "execution_count": 56,
   "metadata": {},
   "outputs": [
    {
     "data": {
      "text/plain": [
       "7"
      ]
     },
     "execution_count": 56,
     "metadata": {},
     "output_type": "execute_result"
    }
   ],
   "source": [
    "df.select(\"event_weekday\").distinct().count()"
   ]
  },
  {
   "cell_type": "code",
   "execution_count": 58,
   "metadata": {},
   "outputs": [],
   "source": [
    "def create_pipeline(categorical_features: list[str], numeric_features: list[str], \n",
    "                    label_col: str, max_iter: int) -> Pipeline:\n",
    "    \"\"\"\n",
    "    Создает конвейер для обработки данных и обучения модели градиентного бустинга.\n",
    "\n",
    "    Args:\n",
    "        categorical_features: Список категориальных признаков.\n",
    "        numeric_features: Список количественных признаков.\n",
    "        binary_features: Список бинарных признаков.\n",
    "        binarized_col: Название бинаризуемого признака.\n",
    "        threshold: Порог бинаризации.\n",
    "        label_col: Название столбца с меткой.\n",
    "        max_iter: Максимальное количество итераций для модели.\n",
    "\n",
    "    Returns:\n",
    "        Pipeline: Конвейер для обработки данных и обучения модели.\n",
    "    \"\"\"\n",
    "    # Формируем названия колонок для преобразованных признаков\n",
    "    indexed_categorical_features = [f\"{feature}_index\" for feature in categorical_features]\n",
    "    \n",
    "    # Выполняем преобразования данных\n",
    "    string_indexer = StringIndexer(inputCols=categorical_features,\n",
    "                                   outputCols=indexed_categorical_features,\n",
    "                                   handleInvalid=\"keep\")\n",
    "    vector_all_assembler = VectorAssembler(\n",
    "        inputCols=(indexed_categorical_features  +\n",
    "                   numeric_features),\n",
    "        outputCol=\"features\"\n",
    "    )\n",
    "\n",
    "    # Создаем модель линейной регрессии\n",
    "    gbt_classifier = GBTClassifier(featuresCol=\"features\",\n",
    "                                   labelCol=label_col,\n",
    "                                   predictionCol=\"prediction\",\n",
    "                                   maxIter=max_iter,\n",
    "                                   maxBins=370)\n",
    "\n",
    "    # Создаем конвейер\n",
    "    pipeline = Pipeline(stages=[\n",
    "        string_indexer, vector_all_assembler, gbt_classifier\n",
    "    ])\n",
    "\n",
    "    return pipeline"
   ]
  },
  {
   "cell_type": "code",
   "execution_count": 59,
   "metadata": {},
   "outputs": [],
   "source": [
    "pipeline = create_pipeline(categorical_features=categorical_features,\n",
    "                           numeric_features=numeric_features,\n",
    "                           label_col=\"is_purchased\",\n",
    "                           max_iter=32)"
   ]
  },
  {
   "cell_type": "code",
   "execution_count": 60,
   "metadata": {},
   "outputs": [],
   "source": [
    "param_grid = ParamGridBuilder() \\\n",
    "    .addGrid(pipeline.getStages()[-1].maxDepth, [5]) \\\n",
    "    .addGrid(pipeline.getStages()[-1].stepSize, [0.01]) \\\n",
    "    .build()"
   ]
  },
  {
   "cell_type": "code",
   "execution_count": 61,
   "metadata": {},
   "outputs": [],
   "source": [
    "cv_evaluator = BinaryClassificationEvaluator(labelCol=\"is_purchased\")"
   ]
  },
  {
   "cell_type": "code",
   "execution_count": 62,
   "metadata": {},
   "outputs": [],
   "source": [
    "cross_validator = CrossValidator(estimator=pipeline,\n",
    "                                 estimatorParamMaps=param_grid,\n",
    "                                 evaluator=cv_evaluator,\n",
    "                                 numFolds=5)"
   ]
  },
  {
   "cell_type": "code",
   "execution_count": 63,
   "metadata": {},
   "outputs": [
    {
     "name": "stderr",
     "output_type": "stream",
     "text": [
      "25/01/18 08:02:13 WARN DAGScheduler: Broadcasting large task binary with size 1001.3 KiB\n",
      "25/01/18 08:02:14 WARN DAGScheduler: Broadcasting large task binary with size 1006.4 KiB\n",
      "25/01/18 08:02:15 WARN DAGScheduler: Broadcasting large task binary with size 1012.6 KiB\n",
      "25/01/18 08:02:16 WARN DAGScheduler: Broadcasting large task binary with size 1013.1 KiB\n",
      "25/01/18 08:02:16 WARN DAGScheduler: Broadcasting large task binary with size 1017.6 KiB\n",
      "25/01/18 08:02:17 WARN DAGScheduler: Broadcasting large task binary with size 1023.9 KiB\n",
      "25/01/18 08:02:18 WARN DAGScheduler: Broadcasting large task binary with size 1030.5 KiB\n",
      "25/01/18 08:02:19 WARN DAGScheduler: Broadcasting large task binary with size 1038.3 KiB\n",
      "25/01/18 08:02:20 WARN DAGScheduler: Broadcasting large task binary with size 1038.7 KiB\n",
      "25/01/18 08:02:20 WARN DAGScheduler: Broadcasting large task binary with size 1043.2 KiB\n",
      "25/01/18 08:02:21 WARN DAGScheduler: Broadcasting large task binary with size 1052.9 KiB\n",
      "25/01/18 08:02:22 WARN DAGScheduler: Broadcasting large task binary with size 1057.8 KiB\n",
      "25/01/18 08:02:23 WARN DAGScheduler: Broadcasting large task binary with size 1063.9 KiB\n",
      "25/01/18 08:02:24 WARN DAGScheduler: Broadcasting large task binary with size 1064.4 KiB\n",
      "25/01/18 08:02:25 WARN DAGScheduler: Broadcasting large task binary with size 1068.9 KiB\n",
      "25/01/18 08:02:25 WARN DAGScheduler: Broadcasting large task binary with size 1075.2 KiB\n",
      "25/01/18 08:02:26 WARN DAGScheduler: Broadcasting large task binary with size 1081.9 KiB\n",
      "25/01/18 08:02:29 WARN DAGScheduler: Broadcasting large task binary with size 1066.0 KiB\n",
      "25/01/18 08:04:01 WARN DAGScheduler: Broadcasting large task binary with size 1001.2 KiB\n",
      "25/01/18 08:04:01 WARN DAGScheduler: Broadcasting large task binary with size 1007.8 KiB\n",
      "25/01/18 08:04:02 WARN DAGScheduler: Broadcasting large task binary with size 1013.0 KiB\n",
      "25/01/18 08:04:02 WARN DAGScheduler: Broadcasting large task binary with size 1019.5 KiB\n",
      "25/01/18 08:04:03 WARN DAGScheduler: Broadcasting large task binary with size 1020.0 KiB\n",
      "25/01/18 08:04:03 WARN DAGScheduler: Broadcasting large task binary with size 1024.5 KiB\n",
      "25/01/18 08:04:04 WARN DAGScheduler: Broadcasting large task binary with size 1029.3 KiB\n",
      "25/01/18 08:04:04 WARN DAGScheduler: Broadcasting large task binary with size 1035.5 KiB\n",
      "25/01/18 08:04:07 WARN DAGScheduler: Broadcasting large task binary with size 1023.4 KiB\n",
      "25/01/18 08:05:25 WARN DAGScheduler: Broadcasting large task binary with size 1002.7 KiB\n",
      "25/01/18 08:05:26 WARN DAGScheduler: Broadcasting large task binary with size 1019.8 KiB\n",
      "25/01/18 08:05:27 WARN DAGScheduler: Broadcasting large task binary with size 1020.3 KiB\n",
      "25/01/18 08:05:28 WARN DAGScheduler: Broadcasting large task binary with size 1024.7 KiB\n",
      "25/01/18 08:05:29 WARN DAGScheduler: Broadcasting large task binary with size 1027.8 KiB\n",
      "25/01/18 08:05:29 WARN DAGScheduler: Broadcasting large task binary with size 1036.1 KiB\n",
      "25/01/18 08:05:30 WARN DAGScheduler: Broadcasting large task binary with size 1042.3 KiB\n",
      "25/01/18 08:05:32 WARN DAGScheduler: Broadcasting large task binary with size 1042.7 KiB\n",
      "25/01/18 08:05:33 WARN DAGScheduler: Broadcasting large task binary with size 1047.2 KiB\n",
      "25/01/18 08:05:34 WARN DAGScheduler: Broadcasting large task binary with size 1050.9 KiB\n",
      "25/01/18 08:05:34 WARN DAGScheduler: Broadcasting large task binary with size 1065.1 KiB\n",
      "25/01/18 08:05:35 WARN DAGScheduler: Broadcasting large task binary with size 1076.7 KiB\n",
      "25/01/18 08:05:36 WARN DAGScheduler: Broadcasting large task binary with size 1077.2 KiB\n",
      "25/01/18 08:05:37 WARN DAGScheduler: Broadcasting large task binary with size 1081.6 KiB\n",
      "25/01/18 08:05:38 WARN DAGScheduler: Broadcasting large task binary with size 1084.2 KiB\n",
      "25/01/18 08:05:38 WARN DAGScheduler: Broadcasting large task binary with size 1097.2 KiB\n",
      "25/01/18 08:05:39 WARN DAGScheduler: Broadcasting large task binary with size 1113.4 KiB\n",
      "25/01/18 08:05:40 WARN DAGScheduler: Broadcasting large task binary with size 1113.9 KiB\n",
      "25/01/18 08:05:41 WARN DAGScheduler: Broadcasting large task binary with size 1118.3 KiB\n",
      "25/01/18 08:05:41 WARN DAGScheduler: Broadcasting large task binary with size 1123.7 KiB\n",
      "25/01/18 08:05:42 WARN DAGScheduler: Broadcasting large task binary with size 1133.6 KiB\n",
      "25/01/18 08:05:45 WARN DAGScheduler: Broadcasting large task binary with size 1117.7 KiB\n",
      "25/01/18 08:07:06 WARN DAGScheduler: Broadcasting large task binary with size 1003.1 KiB\n",
      "25/01/18 08:07:06 WARN DAGScheduler: Broadcasting large task binary with size 1003.6 KiB\n",
      "25/01/18 08:07:07 WARN DAGScheduler: Broadcasting large task binary with size 1008.1 KiB\n",
      "25/01/18 08:07:07 WARN DAGScheduler: Broadcasting large task binary with size 1016.3 KiB\n",
      "25/01/18 08:07:08 WARN DAGScheduler: Broadcasting large task binary with size 1026.8 KiB\n",
      "25/01/18 08:07:08 WARN DAGScheduler: Broadcasting large task binary with size 1040.1 KiB\n",
      "25/01/18 08:07:09 WARN DAGScheduler: Broadcasting large task binary with size 1040.5 KiB\n",
      "25/01/18 08:07:09 WARN DAGScheduler: Broadcasting large task binary with size 1044.9 KiB\n",
      "25/01/18 08:07:10 WARN DAGScheduler: Broadcasting large task binary with size 1048.5 KiB\n",
      "25/01/18 08:07:10 WARN DAGScheduler: Broadcasting large task binary with size 1056.2 KiB\n",
      "25/01/18 08:07:10 WARN DAGScheduler: Broadcasting large task binary with size 1060.1 KiB\n",
      "25/01/18 08:07:11 WARN DAGScheduler: Broadcasting large task binary with size 1060.6 KiB\n",
      "25/01/18 08:07:12 WARN DAGScheduler: Broadcasting large task binary with size 1065.0 KiB\n",
      "25/01/18 08:07:12 WARN DAGScheduler: Broadcasting large task binary with size 1071.7 KiB\n",
      "25/01/18 08:07:13 WARN DAGScheduler: Broadcasting large task binary with size 1079.8 KiB\n",
      "25/01/18 08:07:13 WARN DAGScheduler: Broadcasting large task binary with size 1085.5 KiB\n",
      "25/01/18 08:07:14 WARN DAGScheduler: Broadcasting large task binary with size 1086.0 KiB\n",
      "25/01/18 08:07:14 WARN DAGScheduler: Broadcasting large task binary with size 1090.5 KiB\n",
      "25/01/18 08:07:15 WARN DAGScheduler: Broadcasting large task binary with size 1098.7 KiB\n",
      "25/01/18 08:07:15 WARN DAGScheduler: Broadcasting large task binary with size 1109.2 KiB\n",
      "25/01/18 08:07:17 WARN DAGScheduler: Broadcasting large task binary with size 1092.6 KiB\n",
      "25/01/18 08:07:19 WARN CacheManager: Asked to cache already cached data.        \n",
      "25/01/18 08:07:19 WARN CacheManager: Asked to cache already cached data.\n",
      "25/01/18 08:08:32 WARN DAGScheduler: Broadcasting large task binary with size 1000.8 KiB\n",
      "25/01/18 08:08:33 WARN DAGScheduler: Broadcasting large task binary with size 1010.4 KiB\n",
      "25/01/18 08:08:33 WARN DAGScheduler: Broadcasting large task binary with size 1024.3 KiB\n",
      "25/01/18 08:08:34 WARN DAGScheduler: Broadcasting large task binary with size 1024.8 KiB\n",
      "25/01/18 08:08:34 WARN DAGScheduler: Broadcasting large task binary with size 1029.3 KiB\n",
      "25/01/18 08:08:35 WARN DAGScheduler: Broadcasting large task binary with size 1033.3 KiB\n",
      "25/01/18 08:08:35 WARN DAGScheduler: Broadcasting large task binary with size 1042.2 KiB\n",
      "25/01/18 08:08:38 WARN DAGScheduler: Broadcasting large task binary with size 1022.1 KiB\n",
      "25/01/18 08:10:12 WARN DAGScheduler: Broadcasting large task binary with size 1005.8 KiB\n",
      "25/01/18 08:10:13 WARN DAGScheduler: Broadcasting large task binary with size 1006.3 KiB\n",
      "25/01/18 08:10:13 WARN DAGScheduler: Broadcasting large task binary with size 1010.8 KiB\n",
      "25/01/18 08:10:13 WARN DAGScheduler: Broadcasting large task binary with size 1020.1 KiB\n",
      "25/01/18 08:10:14 WARN DAGScheduler: Broadcasting large task binary with size 1028.0 KiB\n",
      "25/01/18 08:10:14 WARN DAGScheduler: Broadcasting large task binary with size 1035.8 KiB\n",
      "25/01/18 08:10:15 WARN DAGScheduler: Broadcasting large task binary with size 1036.3 KiB\n",
      "25/01/18 08:10:15 WARN DAGScheduler: Broadcasting large task binary with size 1040.7 KiB\n",
      "25/01/18 08:10:16 WARN DAGScheduler: Broadcasting large task binary with size 1050.4 KiB\n",
      "25/01/18 08:10:16 WARN DAGScheduler: Broadcasting large task binary with size 1054.7 KiB\n"
     ]
    }
   ],
   "source": [
    "cv_model = cross_validator.fit(train_df)"
   ]
  },
  {
   "cell_type": "code",
   "execution_count": 64,
   "metadata": {},
   "outputs": [],
   "source": [
    "def get_best_model_params(cv_model: CrossValidatorModel) -> dict[str, float]:\n",
    "    \"\"\"\n",
    "    Получает параметры лучшей модели из объекта CrossValidatorModel.\n",
    "\n",
    "    Args:\n",
    "        cv_model: Объект CrossValidatorModel, содержащий лучшую модель.\n",
    "\n",
    "    Returns:\n",
    "        Dict[str, float]: Параметры лучшей модели.\n",
    "    \"\"\"\n",
    "    best_model = cv_model.bestModel\n",
    "    best_params = {\n",
    "        \"maxDepth\": best_model.stages[-1].getMaxDepth(),\n",
    "        \"stepSize\": best_model.stages[-1].getStepSize(),\n",
    "        \"maxIter\": best_model.stages[-1].getMaxIter()\n",
    "    }\n",
    "    return best_params"
   ]
  },
  {
   "cell_type": "code",
   "execution_count": 65,
   "metadata": {},
   "outputs": [
    {
     "name": "stdout",
     "output_type": "stream",
     "text": [
      "maxDepth: 5\n",
      "stepSize: 0.01\n",
      "maxIter: 32\n"
     ]
    }
   ],
   "source": [
    "for key, value in get_best_model_params(cv_model=cv_model).items():\n",
    "    print(f\"{key}: {value}\")"
   ]
  },
  {
   "cell_type": "code",
   "execution_count": 67,
   "metadata": {},
   "outputs": [
    {
     "name": "stderr",
     "output_type": "stream",
     "text": [
      "25/01/18 08:16:10 WARN DAGScheduler: Broadcasting large task binary with size 1038.5 KiB\n"
     ]
    },
    {
     "name": "stdout",
     "output_type": "stream",
     "text": [
      "+--------------------+--------------------+----------+----------+-------------------+--------------------+-------+-------+---------+----------+-------------+--------------+-------------------+-----------+-------------------+--------------------+--------------------+--------------------+----------+------------+\n",
      "|        user_session|          event_time|event_type|product_id|        category_id|       category_code|  brand|  price|  user_id|event_date|event_weekday|activity_count|category_code_index|brand_index|event_weekday_index|            features|       rawPrediction|         probability|prediction|is_purchased|\n",
      "+--------------------+--------------------+----------+----------+-------------------+--------------------+-------+-------+---------+----------+-------------+--------------+-------------------+-----------+-------------------+--------------------+--------------------+--------------------+----------+------------+\n",
      "|0002b07c-85cd-46e...|2019-10-14 09:16:...|      cart|   1004776|2053013555631882655|electronics.smart...| xiaomi| 183.27|553453794|2019-10-14|            1|            22|                0.0|        2.0|                6.0|[0.0,2.0,6.0,22.0...|[0.31371298327491...|[0.65190557906356...|       0.0|           1|\n",
      "|00053582-021c-432...|2019-10-15 05:20:...|      cart|   1004870|2053013555631882655|electronics.smart...|samsung|  285.4|560344415|2019-10-15|            2|             4|                0.0|        0.0|                1.0|[0.0,0.0,1.0,4.0,...|[-0.3340563620108...|[0.33891956218235...|       1.0|           1|\n",
      "|0006ebb7-9b9d-482...|2019-10-18 22:50:...|      cart|   1004833|2053013555631882655|electronics.smart...|samsung| 172.14|513828179|2019-10-18|            5|             5|                0.0|        0.0|                0.0|(5,[3,4],[5.0,172...|[-0.3493812520328...|[0.33208665369282...|       1.0|           1|\n",
      "|000941cc-a55d-4a5...|2019-10-24 20:17:...|      cart|  25800005|2053013562292437791|medicine.tools.to...|  omron|   40.9|563830578|2019-10-24|            4|            12|               47.0|       62.0|                3.0|[47.0,62.0,3.0,12...|[0.19363613489253...|[0.59562588168430...|       0.0|           1|\n",
      "|0009dd16-a78c-4e7...|2019-10-16 03:18:...|      cart|   1005105|2053013555631882655|electronics.smart...|  apple|1425.11|555017788|2019-10-16|            3|             8|                0.0|        1.0|                2.0|[0.0,1.0,2.0,8.0,...|[-0.1482531624690...|[0.42641176240586...|       1.0|           1|\n",
      "|000fcbc9-3a1e-41e...|2019-10-09 10:24:...|      cart|   1004768|2053013555631882655|electronics.smart...|samsung| 250.96|515544873|2019-10-09|            3|             6|                0.0|        0.0|                2.0|[0.0,0.0,2.0,6.0,...|[-0.1600986260389...|[0.42062767676065...|       1.0|           1|\n",
      "|00105732-9960-435...|2019-10-14 10:04:...|      cart|   1003312|2053013555631882655|electronics.smart...|  apple|  716.6|513204624|2019-10-14|            1|             3|                0.0|        1.0|                6.0|[0.0,1.0,6.0,3.0,...|[0.07967725991309...|[0.53975453876421...|       0.0|           1|\n",
      "|00125845-5a3c-4cc...|2019-10-09 08:43:...|      cart|   1005135|2053013555631882655|electronics.smart...|  apple|1747.79|515575930|2019-10-09|            3|             6|                0.0|        1.0|                2.0|[0.0,1.0,2.0,6.0,...|[-0.1482531624690...|[0.42641176240586...|       1.0|           1|\n",
      "|0012d784-2123-4d1...|2019-10-16 20:31:...|      cart|   1600600|2053013553056579841|computers.periphe...|     hp| 148.05|514048906|2019-10-16|            3|             3|               15.0|       21.0|                2.0|[15.0,21.0,2.0,3....|[0.10867694931768...|[0.55412555572302...|       0.0|           1|\n",
      "|001de77d-9b9a-4c5...|2019-10-28 16:00:...|      cart|   1004856|2053013555631882655|electronics.smart...|samsung| 130.99|564395096|2019-10-28|            1|             8|                0.0|        0.0|                6.0|[0.0,0.0,6.0,8.0,...|[-0.1796585261388...|[0.41112489837398...|       1.0|           1|\n",
      "|0021150f-8178-48f...|2019-10-23 07:51:...|      cart|   1002633|2053013555631882655|electronics.smart...|  apple| 358.39|563232658|2019-10-23|            3|            13|                0.0|        1.0|                2.0|[0.0,1.0,2.0,13.0...|[-0.1565168795449...|[0.42237440593865...|       1.0|           1|\n",
      "|002a4213-5e76-43b...|2019-10-29 12:49:...|      cart|   1801690|2053013554415534427|electronics.video.tv|samsung| 369.36|544942350|2019-10-29|            2|            14|                2.0|        0.0|                1.0|[2.0,0.0,1.0,14.0...|[-0.1134707328562...|[0.44350688675007...|       1.0|           1|\n",
      "|00394e06-2cab-405...|2019-10-02 17:36:...|      cart|   1004833|2053013555631882655|electronics.smart...|samsung| 174.33|556095684|2019-10-02|            3|             8|                0.0|        0.0|                2.0|[0.0,0.0,2.0,8.0,...|[-0.1800344127744...|[0.41094290531884...|       1.0|           1|\n",
      "|003bec11-5576-47d...|2019-10-19 08:08:...|      cart|   1500021|2053013552955916539|computers.periphe...|  epson| 116.47|561823751|2019-10-19|            6|            13|               15.0|       27.0|                5.0|[15.0,27.0,5.0,13...|[0.15597686214605...|[0.57736207129535...|       0.0|           1|\n",
      "|0048a8f7-3e4c-40e...|2019-10-25 13:42:...|      cart|   1004767|2053013555631882655|electronics.smart...|samsung| 246.52|564016893|2019-10-25|            5|             6|                0.0|        0.0|                0.0|(5,[3,4],[6.0,246...|[-0.1383963669100...|[0.43124025484681...|       1.0|           1|\n",
      "|004f38e1-aaa3-406...|2019-10-12 05:58:...|      cart|   1002544|2053013555631882655|electronics.smart...|  apple| 460.51|535989392|2019-10-12|            6|             4|                0.0|        1.0|                5.0|[0.0,1.0,5.0,4.0,...|[-0.3300784212812...|[0.34070437992267...|       1.0|           1|\n",
      "|00552632-37a1-406...|2019-10-20 11:51:...|      cart|   1004659|2053013555631882655|electronics.smart...|samsung| 727.35|530395352|2019-10-20|            0|             9|                0.0|        0.0|                4.0|[0.0,0.0,4.0,9.0,...|[-0.1039260979903...|[0.44822322425372...|       1.0|           1|\n",
      "|005f70fc-2ab7-404...|2019-10-19 10:00:...|      cart|   1005116|2053013555631882655|electronics.smart...|  apple|1088.57|514966266|2019-10-19|            6|             9|                0.0|        1.0|                5.0|[0.0,1.0,5.0,9.0,...|[-0.1039260979903...|[0.44822322425372...|       1.0|           1|\n",
      "|00644115-4a20-475...|2019-10-09 11:13:...|      cart|   4803637|2053013554658804075|electronics.audio...| hyperx|  53.15|558411211|2019-10-09|            3|            27|                1.0|       71.0|                2.0|[1.0,71.0,2.0,27....|[0.31311961837087...|[0.65163623223998...|       0.0|           1|\n",
      "|00644e6a-2f7e-439...|2019-10-21 05:24:...|      cart|   1004249|2053013555631882655|electronics.smart...|  apple| 745.94|515208466|2019-10-21|            1|            13|                0.0|        1.0|                6.0|[0.0,1.0,6.0,13.0...|[-0.1308082777705...|[0.43496636464285...|       1.0|           1|\n",
      "+--------------------+--------------------+----------+----------+-------------------+--------------------+-------+-------+---------+----------+-------------+--------------+-------------------+-----------+-------------------+--------------------+--------------------+--------------------+----------+------------+\n",
      "only showing top 20 rows\n",
      "\n"
     ]
    },
    {
     "name": "stderr",
     "output_type": "stream",
     "text": [
      "                                                                                \r"
     ]
    }
   ],
   "source": [
    "# Получаем датасет предсказаний\n",
    "test_df_predictions = cv_model.transform(test_df)\n",
    "\n",
    "# Извлекаем список колонок, устанавливаем цену на последнее место\n",
    "right_columns_order = test_df_predictions.columns\n",
    "right_columns_order.remove(\"is_purchased\")\n",
    "right_columns_order.append(\"is_purchased\")\n",
    "\n",
    "# Изменяем последовательность колонок и выводим датафрейм\n",
    "test_df_predictions = test_df_predictions.select(*right_columns_order)\n",
    "test_df_predictions.show()"
   ]
  },
  {
   "cell_type": "code",
   "execution_count": 68,
   "metadata": {},
   "outputs": [],
   "source": [
    "def evaluate_model(data: DataFrame, \n",
    "                   label_col: str) -> dict[str, float]:\n",
    "    \"\"\"\n",
    "    Оценивает модель с использованием метрик точности, полноты и F1-score.\n",
    "\n",
    "    Args:\n",
    "        data: DataFrame, содержащий предсказания и фактические метки.\n",
    "        label_col: Название колонки с меткой.\n",
    "\n",
    "    Returns:\n",
    "        dict[str, float]: Словарь с метриками точности, полноты и F1-score.\n",
    "    \"\"\"\n",
    "    # Вычисляем TP, FP, FN\n",
    "    tp = data.filter((F.col(label_col) == 1) &\n",
    "                     (F.col(\"prediction\") == 1)).count()\n",
    "    fp = data.filter((F.col(label_col) == 0) &\n",
    "                     (F.col(\"prediction\") == 1)).count()\n",
    "    fn = data.filter((F.col(label_col) == 1) &\n",
    "                     (F.col(\"prediction\") == 0)).count()\n",
    "\n",
    "    # Вычисляем метрики\n",
    "    precision = tp / (tp + fp) if (tp + fp) > 0 else 0\n",
    "    recall = tp / (tp + fn) if (tp + fn) > 0 else 0\n",
    "    f1 = (2 * (precision * recall) / (precision + recall)\n",
    "        if (precision + recall) > 0 else 0)\n",
    "\n",
    "    # Возвращаем словарь с метриками\n",
    "    return {\n",
    "        \"precision\": precision,\n",
    "        \"recall\": recall,\n",
    "        \"f1\": f1\n",
    "    }"
   ]
  },
  {
   "cell_type": "code",
   "execution_count": 70,
   "metadata": {},
   "outputs": [
    {
     "name": "stderr",
     "output_type": "stream",
     "text": [
      "25/01/18 08:17:21 WARN DAGScheduler: Broadcasting large task binary with size 1027.1 KiB\n",
      "25/01/18 08:17:24 WARN DAGScheduler: Broadcasting large task binary with size 1027.1 KiB\n",
      "25/01/18 08:17:27 WARN DAGScheduler: Broadcasting large task binary with size 1027.1 KiB\n",
      "[Stage 3453:============================================>          (8 + 2) / 10]\r"
     ]
    },
    {
     "name": "stdout",
     "output_type": "stream",
     "text": [
      "Metrics: {'precision': 0.5862623579755054, 'recall': 0.7247405191441236, 'f1': 0.6481878767609368}\n"
     ]
    },
    {
     "name": "stderr",
     "output_type": "stream",
     "text": [
      "                                                                                \r"
     ]
    }
   ],
   "source": [
    "metrics = evaluate_model(test_df_predictions, \"is_purchased\")\n",
    "print(f\"Metrics: {metrics}\")"
   ]
  },
  {
   "cell_type": "code",
   "execution_count": 71,
   "metadata": {},
   "outputs": [],
   "source": [
    "def calculate_auc_roc(model: GBTClassificationModel, \n",
    "                      test_data: DataFrame,\n",
    "                      label_col: str) -> float:\n",
    "    \"\"\"\n",
    "    Рассчитывает значение AUC ROC для модели.\n",
    "\n",
    "    Args:\n",
    "        model: Обученная модель классификации.\n",
    "        test_data: Тестовый набор данных.\n",
    "        label_col: Название столбца с меткой.\n",
    "\n",
    "    Returns:\n",
    "        float: Значение AUC ROC.\n",
    "    \"\"\"\n",
    "    # Получаем прогнозы модели\n",
    "    predictions = model.transform(test_data)\n",
    "\n",
    "    # Создаем \"оценщик\" бинарной классификации\n",
    "    evaluator = BinaryClassificationEvaluator(\n",
    "        rawPredictionCol=\"rawPrediction\",\n",
    "        labelCol=label_col\n",
    "    )\n",
    "\n",
    "    # Вычисляем AUC ROC\n",
    "    auc_roc = evaluator.evaluate(predictions)\n",
    "\n",
    "    return auc_roc"
   ]
  },
  {
   "cell_type": "code",
   "execution_count": 72,
   "metadata": {},
   "outputs": [],
   "source": [
    "def prepare_metrics_df(predictions: DataFrame, label_col: str) -> DataFrame:\n",
    "    \"\"\"\n",
    "    Подготавливает DataFrame для расчета FPR, TPR и Precision.\n",
    "\n",
    "    Args:\n",
    "        predictions: DataFrame с прогнозами модели.\n",
    "        label_col: Название столбца с меткой.\n",
    "\n",
    "    Returns:\n",
    "        DataFrame: DataFrame с рассчитанными столбцами FPR, TPR и Precision.\n",
    "    \"\"\"\n",
    "    # Формируем датафрейм, содержащий результат предсказания,\n",
    "    # вероятность предсказания и метку\n",
    "    metrics_df = (\n",
    "        predictions\n",
    "        .select(\n",
    "            vector_to_array(\n",
    "                F.col(\"probability\")\n",
    "            ).getItem(1).alias(\"probability\"),\n",
    "            \n",
    "            F.col(label_col).alias(\"label\"),\n",
    "            F.col(\"prediction\").cast(\"int\").alias(\"prediction\")\n",
    "        )\n",
    "    )\n",
    "\n",
    "    # Сортируем датафрейм по значениям вероятности\n",
    "    metrics_df = metrics_df.orderBy(\"probability\")\n",
    "\n",
    "    # Рассчитываем количество положительных и отрицательных классов\n",
    "    pos_count = metrics_df.filter(metrics_df.label == 1).count()\n",
    "    neg_count = metrics_df.filter(metrics_df.label == 0).count()\n",
    "\n",
    "    # Рассчитываем значения FPR и TPR\n",
    "    window = Window.partitionBy().orderBy(F.desc(\"probability\"))\n",
    "    metrics_df = (\n",
    "        metrics_df\n",
    "        .withColumn(\"FP_cum\", \n",
    "                    F.sum(F.when(\n",
    "                        F.col(\"label\") == 0, 1\n",
    "                    ).otherwise(0)).over(window))\n",
    "        .withColumn(\"TP_cum\", F.sum(F.col(\"label\")).over(window))\n",
    "        .withColumn(\"FPR\", F.col(\"FP_cum\") / neg_count)\n",
    "        .withColumn(\"TPR\", F.col(\"TP_cum\") / pos_count)\n",
    "        .withColumn(\"Precision\", \n",
    "                    F.col(\"TP_cum\") / (F.col(\"TP_cum\") + F.col(\"FP_cum\")))\n",
    "    )\n",
    "\n",
    "    return metrics_df"
   ]
  },
  {
   "cell_type": "code",
   "execution_count": 73,
   "metadata": {},
   "outputs": [],
   "source": [
    "def bucketize_metrics_df(metrics_df: DataFrame, \n",
    "                         num_buckets: int = 1000) -> DataFrame:\n",
    "    \"\"\"\n",
    "    Применяет Bucketizer к DataFrame для уменьшения объёма данных, \n",
    "    возвращаемых на драйвер.\n",
    "\n",
    "    Args:\n",
    "        metrics_df: DataFrame с рассчитанными столбцами FPR, TPR и Precision.\n",
    "        num_buckets: Количество бакетов.\n",
    "\n",
    "    Returns:\n",
    "        DataFrame: Бакетизированный Dataframe.\n",
    "    \"\"\"\n",
    "    # Определяем границы бакетов\n",
    "    bucketizer = Bucketizer(\n",
    "        splits=list(np.linspace(0, 1, num_buckets + 1)),\n",
    "        inputCol=\"probability\",\n",
    "        outputCol=\"bucket\"\n",
    "    )\n",
    "\n",
    "    # Применяем Bucketizer\n",
    "    metrics_df = bucketizer.setHandleInvalid(\"error\").transform(metrics_df)\n",
    "\n",
    "    # Формируем одну точку из каждого бакета\n",
    "    metrics_df = metrics_df.groupBy(\"bucket\").agg(\n",
    "        F.avg(F.col(\"probability\")).alias(\"probability\"),\n",
    "        F.avg(F.col(\"FPR\")).alias(\"FPR\"),\n",
    "        F.avg(F.col(\"TPR\")).alias(\"TPR\"),\n",
    "        F.avg(F.col(\"Precision\")).alias(\"Precision\")\n",
    "    )\n",
    "\n",
    "    return metrics_df"
   ]
  },
  {
   "cell_type": "code",
   "execution_count": 74,
   "metadata": {},
   "outputs": [],
   "source": [
    "def calculate_metrics(model: GBTClassificationModel, \n",
    "                      test_data: DataFrame,\n",
    "                      label_col: str) -> pd.DataFrame:\n",
    "    \"\"\"\n",
    "    Рассчитывает значения FPR, TPR и Precision для построения ROC и PR-кривых.\n",
    "\n",
    "    Args:\n",
    "        model: Обученная модель классификации.\n",
    "        test_data: Тестовый набор данных.\n",
    "        label_col: Название столбца с меткой.\n",
    "\n",
    "    Returns:\n",
    "        tuple[float, pd.DataFrame]: Кортеж из значения AUC ROC и DataFrame \n",
    "                                    со значениями FPR, TPR и Precision.\n",
    "    \"\"\"\n",
    "    # Получаем прогнозы модели\n",
    "    predictions = model.transform(test_data)\n",
    "\n",
    "    # Подготавливаем DataFrame для расчета FPR, TPR и Precision\n",
    "    metrics_df = prepare_metrics_df(predictions, label_col)\n",
    "\n",
    "    # Применяем Bucketizer к DataFrame\n",
    "    metrics_df = bucketize_metrics_df(metrics_df)\n",
    "\n",
    "    return metrics_df.toPandas()"
   ]
  },
  {
   "cell_type": "code",
   "execution_count": 75,
   "metadata": {},
   "outputs": [],
   "source": [
    "def plot_roc_pr_curves(pd_data: pd.DataFrame, \n",
    "                       auc_roc: float) -> None:\n",
    "    \"\"\"\n",
    "    Визуализирует ROC и PR-кривые, добавляет на график AUC ROC.\n",
    "\n",
    "    Args:\n",
    "        pd_data: Pandas DataFrame, содержащий столбцы \n",
    "            \"FPR\", \"TPR\", \"Precision\".\n",
    "        auc_roc: Значение AUC-ROC.\n",
    "\n",
    "    Returns:\n",
    "        None\n",
    "    \"\"\"\n",
    "    fig, axes = plt.subplots(1, 2, figsize=(20, 6))\n",
    "\n",
    "    # Построение ROC-кривой\n",
    "    sns.lineplot(x=\"FPR\", y=\"TPR\", data=pd_data, ax=axes[0])\n",
    "    sns.lineplot(x=[0, 1], y=[0, 1], \n",
    "                 color=\"gray\", linestyle=\"--\", ax=axes[0])\n",
    "    axes[0].set_xlabel(\"False Positive Rate (FPR)\")\n",
    "    axes[0].set_ylabel(\"True Positive Rate (TPR)\")\n",
    "    axes[0].set_title(\"ROC Curve\")\n",
    "    axes[0].grid()\n",
    "\n",
    "    # Добавляем значение AUC-ROC в правом нижнем углу графика\n",
    "    axes[0].text(0.94, 0.06, f'AUC-ROC: {auc_roc:.2f}', \n",
    "                 transform=axes[0].transAxes,\n",
    "                 fontsize=12, verticalalignment='bottom', \n",
    "                 horizontalalignment='right',\n",
    "                 bbox=dict(facecolor='white', \n",
    "                           alpha=0.8), zorder=5)\n",
    "\n",
    "    # Построение PR-кривой\n",
    "    sns.lineplot(x=\"TPR\", y=\"Precision\", \n",
    "                 data=pd_data, ax=axes[1])\n",
    "    axes[1].set_xlabel(\"Recall\")\n",
    "    axes[1].set_ylabel(\"Precision\")\n",
    "    axes[1].set_title(\"PR Curve\")\n",
    "    axes[1].grid()\n",
    "\n",
    "    plt.tight_layout()\n",
    "    plt.show()"
   ]
  },
  {
   "cell_type": "code",
   "execution_count": 76,
   "metadata": {},
   "outputs": [
    {
     "name": "stderr",
     "output_type": "stream",
     "text": [
      "25/01/18 08:26:00 WARN DAGScheduler: Broadcasting large task binary with size 1038.4 KiB\n",
      "25/01/18 08:26:06 WARN WindowExec: No Partition Defined for Window operation! Moving all data to a single partition, this can cause serious performance degradation.\n",
      "25/01/18 08:26:06 WARN WindowExec: No Partition Defined for Window operation! Moving all data to a single partition, this can cause serious performance degradation.\n",
      "25/01/18 08:26:06 WARN WindowExec: No Partition Defined for Window operation! Moving all data to a single partition, this can cause serious performance degradation.\n",
      "25/01/18 08:26:06 WARN WindowExec: No Partition Defined for Window operation! Moving all data to a single partition, this can cause serious performance degradation.\n",
      "25/01/18 08:26:07 WARN DAGScheduler: Broadcasting large task binary with size 1026.7 KiB\n",
      "25/01/18 08:26:14 WARN DAGScheduler: Broadcasting large task binary with size 1033.0 KiB\n",
      "25/01/18 08:26:16 WARN WindowExec: No Partition Defined for Window operation! Moving all data to a single partition, this can cause serious performance degradation.\n",
      "25/01/18 08:26:16 WARN WindowExec: No Partition Defined for Window operation! Moving all data to a single partition, this can cause serious performance degradation.\n",
      "25/01/18 08:26:16 WARN DAGScheduler: Broadcasting large task binary with size 1028.3 KiB\n",
      "25/01/18 08:26:17 WARN WindowExec: No Partition Defined for Window operation! Moving all data to a single partition, this can cause serious performance degradation.\n",
      "25/01/18 08:26:17 WARN WindowExec: No Partition Defined for Window operation! Moving all data to a single partition, this can cause serious performance degradation.\n",
      "25/01/18 08:26:18 WARN DAGScheduler: Broadcasting large task binary with size 1113.1 KiB\n",
      "                                                                                \r"
     ]
    },
    {
     "data": {
      "image/png": "[encoded data removed]",
      "text/plain": [
       "<Figure size 2000x600 with 2 Axes>"
      ]
     },
     "metadata": {},
     "output_type": "display_data"
    }
   ],
   "source": [
    "auc_roc = calculate_auc_roc(model=cv_model,\n",
    "                            test_data=test_df,\n",
    "                            label_col=\"is_purchased\")\n",
    "pd_dataframe = calculate_metrics(model=cv_model,\n",
    "                                 test_data=test_df,\n",
    "                                 label_col=\"is_purchased\")\n",
    "plot_roc_pr_curves(pd_dataframe, auc_roc)"
   ]
  },
  {
   "cell_type": "code",
   "execution_count": 77,
   "metadata": {},
   "outputs": [
    {
     "name": "stdout",
     "output_type": "stream",
     "text": [
      "Вероятность -- граница разделения, при которой TPR не меньше 60%: 0.55\n"
     ]
    }
   ],
   "source": [
    "threshold_probability = pd_dataframe[pd_dataframe['TPR'] >= 0.60]['probability'].max()\n",
    "print(f\"Вероятность -- граница разделения, при которой TPR не меньше 60%: {threshold_probability:.2f}\")"
   ]
  },
  {
   "cell_type": "code",
   "execution_count": 78,
   "metadata": {},
   "outputs": [
    {
     "name": "stderr",
     "output_type": "stream",
     "text": [
      "25/01/18 08:27:57 WARN DAGScheduler: Broadcasting large task binary with size 1027.1 KiB\n",
      "25/01/18 08:28:00 WARN DAGScheduler: Broadcasting large task binary with size 1027.1 KiB\n",
      "25/01/18 08:28:04 WARN DAGScheduler: Broadcasting large task binary with size 1027.1 KiB\n",
      "[Stage 3486:=================================================>     (9 + 1) / 10]\r"
     ]
    },
    {
     "name": "stdout",
     "output_type": "stream",
     "text": [
      "Metrics: {'precision': 0.6008493314147334, 'recall': 0.624578172598092, 'f1': 0.6124840126289052}\n"
     ]
    },
    {
     "name": "stderr",
     "output_type": "stream",
     "text": [
      "                                                                                \r"
     ]
    }
   ],
   "source": [
    "cv_model.bestModel.stages[-1].setThresholds([1 - threshold_probability, \n",
    "                                             threshold_probability])\n",
    "test_df_predictions = cv_model.transform(test_df)\n",
    "metrics = evaluate_model(test_df_predictions, \"is_purchased\")\n",
    "print(f\"Metrics: {metrics}\")"
   ]
  },
  {
   "cell_type": "code",
   "execution_count": 79,
   "metadata": {},
   "outputs": [],
   "source": [
    "spark.stop()"
   ]
  }
 ],
 "metadata": {
  "kernelspec": {
   "display_name": "pyspark-env",
   "language": "python",
   "name": "python3"
  },
  "language_info": {
   "codemirror_mode": {
    "name": "ipython",
    "version": 3
   },
   "file_extension": ".py",
   "mimetype": "text/x-python",
   "name": "python",
   "nbconvert_exporter": "python",
   "pygments_lexer": "ipython3",
   "version": "3.11.9"
  }
 },
 "nbformat": 4,
 "nbformat_minor": 2
}
