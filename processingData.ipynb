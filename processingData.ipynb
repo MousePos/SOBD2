{
 "cells": [
  {
   "cell_type": "code",
   "execution_count": 24,
   "metadata": {},
   "outputs": [],
   "source": [
    "import os\n",
    "import numpy as np\n",
    "import pandas as pd\n",
    "import seaborn as sns\n",
    "import matplotlib.pyplot as plt\n",
    "from pyspark.sql import SparkSession, DataFrame\n",
    "from pyspark import SparkConf\n",
    "from pyspark.ml.feature import VectorAssembler, StringIndexer, Binarizer, Bucketizer\n",
    "from pyspark.ml.functions import vector_to_array\n",
    "from pyspark.ml.classification import GBTClassifier, GBTClassificationModel\n",
    "from pyspark.ml.evaluation import BinaryClassificationEvaluator\n",
    "from pyspark.ml.tuning import CrossValidator, CrossValidatorModel, ParamGridBuilder\n",
    "from pyspark.ml import Pipeline\n",
    "from pyspark.sql import functions as F\n",
    "from pyspark.sql.types import DoubleType, IntegerType\n",
    "from pyspark.sql import Window\n",
    "from pyspark.sql.functions import to_date, col, weekday, max, dayofweek, split, count, when"
   ]
  },
  {
   "cell_type": "code",
   "execution_count": 6,
   "metadata": {},
   "outputs": [],
   "source": [
    "def create_spark_configuration() -> SparkConf:\n",
    "    \"\"\"\n",
    "    Создает и конфигурирует экземпляр SparkConf для приложения Spark.\n",
    "\n",
    "    Returns:\n",
    "        SparkConf: Настроенный экземпляр SparkConf.\n",
    "    \"\"\"\n",
    "    # Получаем имя пользователя\n",
    "    user_name = os.getenv(\"USER\")\n",
    "    \n",
    "    conf = SparkConf()\n",
    "    conf.setAppName(\"lab 2 Test\")\n",
    "    conf.setMaster(\"yarn\")\n",
    "    conf.set(\"spark.submit.deployMode\", \"client\")\n",
    "    conf.set(\"spark.executor.memory\", \"12g\")\n",
    "    conf.set(\"spark.executor.cores\", \"8\")\n",
    "    conf.set(\"spark.executor.instances\", \"2\")\n",
    "    conf.set(\"spark.driver.memory\", \"4g\")\n",
    "    conf.set(\"spark.driver.cores\", \"2\")\n",
    "    conf.set(\"spark.jars.packages\", \"org.apache.iceberg:iceberg-spark-runtime-3.5_2.12:1.6.0\")\n",
    "    conf.set(\"spark.sql.extensions\", \"org.apache.iceberg.spark.extensions.IcebergSparkSessionExtensions\")\n",
    "    conf.set(\"spark.sql.catalog.spark_catalog\", \"org.apache.iceberg.spark.SparkCatalog\")\n",
    "    conf.set(\"spark.sql.catalog.spark_catalog.type\", \"hadoop\")\n",
    "    conf.set(\"spark.sql.catalog.spark_catalog.warehouse\", f\"hdfs:///user/{user_name}/warehouse\")\n",
    "    conf.set(\"spark.sql.catalog.spark_catalog.io-impl\", \"org.apache.iceberg.hadoop.HadoopFileIO\")\n",
    "\n",
    "    return conf"
   ]
  },
  {
   "cell_type": "code",
   "execution_count": 7,
   "metadata": {},
   "outputs": [],
   "source": [
    "conf = create_spark_configuration()"
   ]
  },
  {
   "cell_type": "code",
   "execution_count": 8,
   "metadata": {},
   "outputs": [
    {
     "name": "stderr",
     "output_type": "stream",
     "text": [
      "25/01/18 07:05:51 WARN SparkSession: Using an existing Spark session; only runtime SQL configurations will take effect.\n"
     ]
    },
    {
     "data": {
      "text/html": [
       "\n",
       "            <div>\n",
       "                <p><b>SparkSession - in-memory</b></p>\n",
       "                \n",
       "        <div>\n",
       "            <p><b>SparkContext</b></p>\n",
       "\n",
       "            <p><a href=\"http://node32.cluster:4041\">Spark UI</a></p>\n",
       "\n",
       "            <dl>\n",
       "              <dt>Version</dt>\n",
       "                <dd><code>v3.5.2</code></dd>\n",
       "              <dt>Master</dt>\n",
       "                <dd><code>yarn</code></dd>\n",
       "              <dt>AppName</dt>\n",
       "                <dd><code>lab 2 Test</code></dd>\n",
       "            </dl>\n",
       "        </div>\n",
       "        \n",
       "            </div>\n",
       "        "
      ],
      "text/plain": [
       "<pyspark.sql.session.SparkSession at 0x7fb40d9d2ed0>"
      ]
     },
     "execution_count": 8,
     "metadata": {},
     "output_type": "execute_result"
    }
   ],
   "source": [
    "spark = SparkSession.builder.config(conf=conf).getOrCreate()\n",
    "spark"
   ]
  },
  {
   "cell_type": "code",
   "execution_count": 9,
   "metadata": {},
   "outputs": [],
   "source": [
    "path = \"/user/user1/2019oct_2.csv\""
   ]
  },
  {
   "cell_type": "code",
   "execution_count": 10,
   "metadata": {},
   "outputs": [
    {
     "name": "stderr",
     "output_type": "stream",
     "text": [
      "                                                                                \r"
     ]
    }
   ],
   "source": [
    "df = (spark.read.format(\"csv\")\n",
    "      .option(\"header\", \"true\")\n",
    "      .load(path)\n",
    ")"
   ]
  },
  {
   "cell_type": "code",
   "execution_count": 11,
   "metadata": {},
   "outputs": [
    {
     "name": "stderr",
     "output_type": "stream",
     "text": [
      "                                                                                \r"
     ]
    },
    {
     "data": {
      "text/plain": [
       "42448764"
      ]
     },
     "execution_count": 11,
     "metadata": {},
     "output_type": "execute_result"
    }
   ],
   "source": [
    "df.count()"
   ]
  },
  {
   "cell_type": "code",
   "execution_count": 12,
   "metadata": {},
   "outputs": [],
   "source": [
    "df = df.dropna()"
   ]
  },
  {
   "cell_type": "code",
   "execution_count": 13,
   "metadata": {},
   "outputs": [
    {
     "name": "stderr",
     "output_type": "stream",
     "text": [
      "                                                                                \r"
     ]
    },
    {
     "data": {
      "text/plain": [
       "26560620"
      ]
     },
     "execution_count": 13,
     "metadata": {},
     "output_type": "execute_result"
    }
   ],
   "source": [
    "df.count()"
   ]
  },
  {
   "cell_type": "code",
   "execution_count": 14,
   "metadata": {},
   "outputs": [
    {
     "name": "stderr",
     "output_type": "stream",
     "text": [
      "                                                                                \r"
     ]
    },
    {
     "name": "stdout",
     "output_type": "stream",
     "text": [
      "+--------------------+----------+----------+-------------------+--------------------+---------+------+---------+--------------------+\n",
      "|          event_time|event_type|product_id|        category_id|       category_code|    brand| price|  user_id|        user_session|\n",
      "+--------------------+----------+----------+-------------------+--------------------+---------+------+---------+--------------------+\n",
      "|2019-10-14 17:09:...|      cart|   1004741|2053013555631882655|electronics.smart...|   xiaomi|191.77|293957954|ef4f8622-b955-45d...|\n",
      "|2019-10-17 17:32:...|      cart|   1004247|2053013555631882655|electronics.smart...|    apple|810.52|362327778|614dda5e-2755-4dc...|\n",
      "|2019-10-15 17:10:...|      cart|   1004875|2053013555631882655|electronics.smart...|  samsung|368.50|380024145|a8326e55-9f47-4db...|\n",
      "|2019-10-18 11:19:...|  purchase|   2501816|2053013564003713919|appliances.kitche...|    artel| 41.44|384989212|7472f245-e885-4c5...|\n",
      "|2019-10-14 18:04:...|      cart|   2701646|2053013563911439225|appliances.kitche...|  indesit|270.25|420692806|16a4b1b9-12e4-4f3...|\n",
      "|2019-10-18 08:29:...|      cart|   1004741|2053013555631882655|electronics.smart...|   xiaomi|190.22|421865172|9c95a92a-bb5b-4d0...|\n",
      "|2019-10-13 10:20:...|  purchase|   3600661|2053013563810775923|appliances.kitche...|  samsung|296.02|429474454|69298660-1ae1-4e5...|\n",
      "|2019-10-02 04:38:...|  purchase|   2501202|2053013564003713919|appliances.kitche...|    midea|321.73|433754231|33967e3f-8589-414...|\n",
      "|2019-10-20 18:36:...|      cart|   1004838|2053013555631882655|electronics.smart...|     oppo|154.19|441522689|d9c70011-575a-4a2...|\n",
      "|2019-10-20 13:46:...|      cart|   1201409|2172371436436455782|  electronics.tablet|prestigio|115.81|446677082|3b72fbe9-cae6-478...|\n",
      "|2019-10-18 15:00:...|      cart|   1004249|2053013555631882655|electronics.smart...|    apple|746.22|448918411|0d408f42-a695-46d...|\n",
      "|2019-10-25 16:59:...|      cart|   1002629|2053013555631882655|electronics.smart...|    apple|358.25|451586723|90c6a27f-db07-4a2...|\n",
      "|2019-10-12 14:37:...|  purchase|  14100275|2053013557670314521|electronics.audio...|   fender|180.96|461023190|cd14e222-f5ac-4fa...|\n",
      "|2019-10-10 10:09:...|      cart|   1002540|2053013555631882655|electronics.smart...|    apple|513.01|461427237|be1293e3-5f40-4b1...|\n",
      "|2019-10-03 11:39:...|      cart|   1004870|2053013555631882655|electronics.smart...|  samsung|286.77|461717586|5f030f5c-119f-431...|\n",
      "|2019-10-30 05:36:...|      cart|   3900633|2053013552326770905|appliances.enviro...|  ariston|193.82|462388445|f17bf9d3-3286-441...|\n",
      "|2019-10-18 11:22:...|      cart|   1004872|2053013555631882655|electronics.smart...|  samsung|286.43|468494182|3b8213d2-ebcb-4c4...|\n",
      "|2019-10-05 06:41:...|      cart|   1004739|2053013555631882655|electronics.smart...|   xiaomi|196.21|469364259|1dd7a946-23be-4fc...|\n",
      "|2019-10-06 06:43:...|  purchase|   1004428|2053013555631882655|electronics.smart...|   huawei|643.49|470193237|79d202e4-1be5-433...|\n",
      "|2019-10-21 13:31:...|      cart|   6100016|2053013560866374351|auto.accessories....|  neoline| 93.82|471210251|696f0856-3295-457...|\n",
      "+--------------------+----------+----------+-------------------+--------------------+---------+------+---------+--------------------+\n",
      "only showing top 20 rows\n",
      "\n"
     ]
    }
   ],
   "source": [
    "# Фильтруем строки с event_type \"cart\" или \"purchase\"\n",
    "cart_purchase_users = df.filter(col(\"event_type\").isin([\"cart\", \"purchase\"]))\n",
    "\n",
    "# Удаляем дубликаты по столбцу 'user_id'\n",
    "cart_purchase_users = cart_purchase_users.dropDuplicates(subset=['user_id'])\n",
    "\n",
    "# Удаляем строки с пустыми значениями\n",
    "cart_purchase_users = cart_purchase_users.na.drop(how=\"any\")\n",
    "\n",
    "# Показываем результат\n",
    "cart_purchase_users.show()"
   ]
  },
  {
   "cell_type": "code",
   "execution_count": 15,
   "metadata": {},
   "outputs": [
    {
     "name": "stderr",
     "output_type": "stream",
     "text": [
      "[Stage 12:>                                                         (0 + 1) / 1]\r"
     ]
    },
    {
     "name": "stdout",
     "output_type": "stream",
     "text": [
      "+--------------------+----------+----------+-------------------+--------------------+---------+------+---------+--------------------+\n",
      "|          event_time|event_type|product_id|        category_id|       category_code|    brand| price|  user_id|        user_session|\n",
      "+--------------------+----------+----------+-------------------+--------------------+---------+------+---------+--------------------+\n",
      "|2019-10-14 17:09:...|      cart|   1004741|2053013555631882655|electronics.smart...|   xiaomi|191.77|293957954|ef4f8622-b955-45d...|\n",
      "|2019-10-17 17:32:...|      cart|   1004247|2053013555631882655|electronics.smart...|    apple|810.52|362327778|614dda5e-2755-4dc...|\n",
      "|2019-10-15 17:10:...|      cart|   1004875|2053013555631882655|electronics.smart...|  samsung|368.50|380024145|a8326e55-9f47-4db...|\n",
      "|2019-10-18 11:19:...|  purchase|   2501816|2053013564003713919|appliances.kitche...|    artel| 41.44|384989212|7472f245-e885-4c5...|\n",
      "|2019-10-14 18:04:...|      cart|   2701646|2053013563911439225|appliances.kitche...|  indesit|270.25|420692806|16a4b1b9-12e4-4f3...|\n",
      "|2019-10-18 08:29:...|      cart|   1004741|2053013555631882655|electronics.smart...|   xiaomi|190.22|421865172|9c95a92a-bb5b-4d0...|\n",
      "|2019-10-13 10:20:...|  purchase|   3600661|2053013563810775923|appliances.kitche...|  samsung|296.02|429474454|69298660-1ae1-4e5...|\n",
      "|2019-10-02 04:38:...|  purchase|   2501202|2053013564003713919|appliances.kitche...|    midea|321.73|433754231|33967e3f-8589-414...|\n",
      "|2019-10-20 18:36:...|      cart|   1004838|2053013555631882655|electronics.smart...|     oppo|154.19|441522689|d9c70011-575a-4a2...|\n",
      "|2019-10-20 13:46:...|      cart|   1201409|2172371436436455782|  electronics.tablet|prestigio|115.81|446677082|3b72fbe9-cae6-478...|\n",
      "|2019-10-18 15:00:...|      cart|   1004249|2053013555631882655|electronics.smart...|    apple|746.22|448918411|0d408f42-a695-46d...|\n",
      "|2019-10-25 16:59:...|      cart|   1002629|2053013555631882655|electronics.smart...|    apple|358.25|451586723|90c6a27f-db07-4a2...|\n",
      "|2019-10-12 14:37:...|  purchase|  14100275|2053013557670314521|electronics.audio...|   fender|180.96|461023190|cd14e222-f5ac-4fa...|\n",
      "|2019-10-10 10:09:...|      cart|   1002540|2053013555631882655|electronics.smart...|    apple|513.01|461427237|be1293e3-5f40-4b1...|\n",
      "|2019-10-03 11:39:...|      cart|   1004870|2053013555631882655|electronics.smart...|  samsung|286.77|461717586|5f030f5c-119f-431...|\n",
      "|2019-10-30 05:36:...|      cart|   3900633|2053013552326770905|appliances.enviro...|  ariston|193.82|462388445|f17bf9d3-3286-441...|\n",
      "|2019-10-18 11:22:...|      cart|   1004872|2053013555631882655|electronics.smart...|  samsung|286.43|468494182|3b8213d2-ebcb-4c4...|\n",
      "|2019-10-05 06:41:...|      cart|   1004739|2053013555631882655|electronics.smart...|   xiaomi|196.21|469364259|1dd7a946-23be-4fc...|\n",
      "|2019-10-06 06:43:...|  purchase|   1004428|2053013555631882655|electronics.smart...|   huawei|643.49|470193237|79d202e4-1be5-433...|\n",
      "|2019-10-21 13:31:...|      cart|   6100016|2053013560866374351|auto.accessories....|  neoline| 93.82|471210251|696f0856-3295-457...|\n",
      "+--------------------+----------+----------+-------------------+--------------------+---------+------+---------+--------------------+\n",
      "only showing top 20 rows\n",
      "\n"
     ]
    },
    {
     "name": "stderr",
     "output_type": "stream",
     "text": [
      "                                                                                \r"
     ]
    }
   ],
   "source": [
    "cart_purchase_users = df.filter(df[\"event_type\"].isin(\"cart\", \"purchase\")) \\\n",
    "                        .dropDuplicates([\"user_id\"])\n",
    "cart_purchase_users.show()"
   ]
  },
  {
   "cell_type": "code",
   "execution_count": 16,
   "metadata": {},
   "outputs": [],
   "source": [
    "cart_purchase_users_all_activity = df.filter(df['user_id'].isin(cart_purchase_users['user_id']))"
   ]
  },
  {
   "cell_type": "code",
   "execution_count": 17,
   "metadata": {},
   "outputs": [
    {
     "name": "stdout",
     "output_type": "stream",
     "text": [
      "+--------------------+----------+----------+-------------------+--------------------+------+-------+---------+--------------------+\n",
      "|          event_time|event_type|product_id|        category_id|       category_code| brand|  price|  user_id|        user_session|\n",
      "+--------------------+----------+----------+-------------------+--------------------+------+-------+---------+--------------------+\n",
      "|2019-10-01 00:00:...|      view|   3900821|2053013552326770905|appliances.enviro...|  aqua|  33.20|554748717|9333dfbd-b87a-470...|\n",
      "|2019-10-01 00:00:...|      view|   1307067|2053013558920217191|  computers.notebook|lenovo| 251.74|550050854|7c90fc70-0e80-459...|\n",
      "|2019-10-01 00:00:...|      view|   1004237|2053013555631882655|electronics.smart...| apple|1081.98|535871217|c6bd7419-2748-4c5...|\n",
      "|2019-10-01 00:00:...|      view|   1480613|2053013561092866779|   computers.desktop|pulser| 908.62|512742880|0d0d91c2-c9c2-4e8...|\n",
      "|2019-10-01 00:00:...|      view|  28719074|2053013565480109009|  apparel.shoes.keds| baden| 102.71|520571932|ac1cd4e5-a3ce-422...|\n",
      "+--------------------+----------+----------+-------------------+--------------------+------+-------+---------+--------------------+\n",
      "only showing top 5 rows\n",
      "\n"
     ]
    }
   ],
   "source": [
    "cart_purchase_users_all_activity.show(5)"
   ]
  },
  {
   "cell_type": "code",
   "execution_count": 20,
   "metadata": {},
   "outputs": [],
   "source": [
    "activity_in_session = cart_purchase_users_all_activity.groupBy(\"user_session\").agg(count(\"event_type\").alias(\"activity_count\"))"
   ]
  },
  {
   "cell_type": "code",
   "execution_count": 67,
   "metadata": {},
   "outputs": [
    {
     "name": "stderr",
     "output_type": "stream",
     "text": [
      "[Stage 13:>                                                         (0 + 1) / 1]\r"
     ]
    },
    {
     "name": "stdout",
     "output_type": "stream",
     "text": [
      "+--------------------+--------------+\n",
      "|        user_session|activity_count|\n",
      "+--------------------+--------------+\n",
      "|c3012f56-70f3-419...|             1|\n",
      "|2af9b570-0942-4dc...|             3|\n",
      "|78c0b329-af93-44f...|             1|\n",
      "|c7e588c7-78a9-403...|             2|\n",
      "|85881243-7b33-409...|             3|\n",
      "+--------------------+--------------+\n",
      "only showing top 5 rows\n",
      "\n"
     ]
    },
    {
     "name": "stderr",
     "output_type": "stream",
     "text": [
      "                                                                                \r"
     ]
    }
   ],
   "source": [
    "activity_in_session.show(5)"
   ]
  },
  {
   "cell_type": "code",
   "execution_count": 21,
   "metadata": {},
   "outputs": [],
   "source": [
    "from pyspark.sql.functions import to_date\n",
    "\n",
    "df = df.withColumn('event_date', to_date(col('event_time').substr(1, 10), 'yyyy-MM-dd'))"
   ]
  },
  {
   "cell_type": "code",
   "execution_count": 69,
   "metadata": {},
   "outputs": [
    {
     "name": "stdout",
     "output_type": "stream",
     "text": [
      "+--------------------+----------+----------+-------------------+--------------------+------+-------+---------+--------------------+----------+\n",
      "|          event_time|event_type|product_id|        category_id|       category_code| brand|  price|  user_id|        user_session|event_date|\n",
      "+--------------------+----------+----------+-------------------+--------------------+------+-------+---------+--------------------+----------+\n",
      "|2019-10-01 00:00:...|      view|   3900821|2053013552326770905|appliances.enviro...|  aqua|  33.20|554748717|9333dfbd-b87a-470...|2019-10-01|\n",
      "|2019-10-01 00:00:...|      view|   1307067|2053013558920217191|  computers.notebook|lenovo| 251.74|550050854|7c90fc70-0e80-459...|2019-10-01|\n",
      "|2019-10-01 00:00:...|      view|   1004237|2053013555631882655|electronics.smart...| apple|1081.98|535871217|c6bd7419-2748-4c5...|2019-10-01|\n",
      "|2019-10-01 00:00:...|      view|   1480613|2053013561092866779|   computers.desktop|pulser| 908.62|512742880|0d0d91c2-c9c2-4e8...|2019-10-01|\n",
      "|2019-10-01 00:00:...|      view|  28719074|2053013565480109009|  apparel.shoes.keds| baden| 102.71|520571932|ac1cd4e5-a3ce-422...|2019-10-01|\n",
      "+--------------------+----------+----------+-------------------+--------------------+------+-------+---------+--------------------+----------+\n",
      "only showing top 5 rows\n",
      "\n"
     ]
    },
    {
     "name": "stderr",
     "output_type": "stream",
     "text": [
      "                                                                                \r"
     ]
    }
   ],
   "source": [
    "df.show(5)"
   ]
  },
  {
   "cell_type": "code",
   "execution_count": 22,
   "metadata": {},
   "outputs": [],
   "source": [
    "df_targets = df.filter(df[\"event_type\"].isin(\"cart\", \"purchase\")) \\\n",
    "    .dropDuplicates([\"event_type\", \"product_id\", \"price\", \"user_id\", \"user_session\"])"
   ]
  },
  {
   "cell_type": "code",
   "execution_count": 25,
   "metadata": {},
   "outputs": [],
   "source": [
    "df_targets = df_targets.withColumn(\"is_purchased\", when(df_targets[\"event_type\"] == \"purchase\", 1).otherwise(0))"
   ]
  },
  {
   "cell_type": "code",
   "execution_count": 72,
   "metadata": {},
   "outputs": [
    {
     "name": "stderr",
     "output_type": "stream",
     "text": [
      "[Stage 17:>                                                         (0 + 1) / 1]\r"
     ]
    },
    {
     "name": "stdout",
     "output_type": "stream",
     "text": [
      "+--------------------+----------+----------+-------------------+--------------------+-------+-------+---------+--------------------+----------+------------+\n",
      "|          event_time|event_type|product_id|        category_id|       category_code|  brand|  price|  user_id|        user_session|event_date|is_purchased|\n",
      "+--------------------+----------+----------+-------------------+--------------------+-------+-------+---------+--------------------+----------+------------+\n",
      "|2019-10-14 05:34:...|  purchase|   1005135|2053013555631882655|electronics.smart...|  apple|1747.70|560002777|0002fa4e-1d84-444...|2019-10-14|           1|\n",
      "|2019-10-09 17:47:...|  purchase|   1004767|2053013555631882655|electronics.smart...|samsung| 250.93|549979887|00035c16-00bf-49a...|2019-10-09|           1|\n",
      "|2019-10-11 09:20:...|      cart|   1004836|2053013555631882655|electronics.smart...|samsung| 230.28|544933935|00046b3e-75e1-475...|2019-10-11|           0|\n",
      "|2019-10-31 15:45:...|  purchase|   1004870|2053013555631882655|electronics.smart...|samsung| 275.28|536158292|000496e4-8cb4-4c9...|2019-10-31|           1|\n",
      "|2019-10-07 12:49:...|      cart|   1004766|2053013555631882655|electronics.smart...|samsung| 251.45|539730580|0005147a-d597-46b...|2019-10-07|           0|\n",
      "+--------------------+----------+----------+-------------------+--------------------+-------+-------+---------+--------------------+----------+------------+\n",
      "only showing top 5 rows\n",
      "\n"
     ]
    },
    {
     "name": "stderr",
     "output_type": "stream",
     "text": [
      "                                                                                \r"
     ]
    }
   ],
   "source": [
    "df_targets.show(5)"
   ]
  },
  {
   "cell_type": "code",
   "execution_count": 26,
   "metadata": {},
   "outputs": [],
   "source": [
    "window_spec = Window.partitionBy(\"user_session\", \"product_id\")\n",
    "\n",
    "# Применяем оконную функцию max для вычисления максимального значения 'is_purchased' по каждой группе\n",
    "df_targets = df_targets.withColumn(\"is_purchased\", max(col(\"is_purchased\")).over(window_spec))"
   ]
  },
  {
   "cell_type": "code",
   "execution_count": 27,
   "metadata": {},
   "outputs": [],
   "source": [
    "df_targets = df_targets.filter(col(\"event_type\") == \"cart\")\n",
    "# Удаление дубликатов по столбцам user_session, product_id и is_purchased\n",
    "df_targets = df_targets.dropDuplicates([\"user_session\", \"product_id\", \"is_purchased\"])"
   ]
  },
  {
   "cell_type": "code",
   "execution_count": 28,
   "metadata": {},
   "outputs": [],
   "source": [
    "df_targets = df_targets.withColumn('event_weekday', dayofweek(col('event_date')) - 1)"
   ]
  },
  {
   "cell_type": "code",
   "execution_count": 91,
   "metadata": {},
   "outputs": [
    {
     "name": "stderr",
     "output_type": "stream",
     "text": [
      "[Stage 35:>                                                         (0 + 1) / 1]\r"
     ]
    },
    {
     "name": "stdout",
     "output_type": "stream",
     "text": [
      "+--------------------+----------+----------+-------------------+--------------------+-------+-------+---------+--------------------+----------+------------+-------------+\n",
      "|          event_time|event_type|product_id|        category_id|       category_code|  brand|  price|  user_id|        user_session|event_date|is_purchased|event_weekday|\n",
      "+--------------------+----------+----------+-------------------+--------------------+-------+-------+---------+--------------------+----------+------------+-------------+\n",
      "|2019-10-23 08:56:...|      cart|   1005074|2053013555631882655|electronics.smart...|samsung|1149.08|536813317|00029324-8160-401...|2019-10-23|           0|            3|\n",
      "|2019-10-17 18:29:...|      cart|   1004653|2053013555631882655|electronics.smart...|samsung| 606.04|515993649|000c8c15-4025-4f9...|2019-10-17|           0|            4|\n",
      "|2019-10-27 09:17:...|      cart|   1005113|2053013555631882655|electronics.smart...|  apple|1091.10|514468999|0011bd92-49a8-425...|2019-10-27|           0|            0|\n",
      "|2019-10-30 18:16:...|      cart|   1004767|2053013555631882655|electronics.smart...|samsung| 242.92|515644778|00122b90-0028-4df...|2019-10-30|           0|            3|\n",
      "|2019-10-30 07:58:...|      cart|   1201466|2172371436436455782|  electronics.tablet|samsung| 234.09|544627331|0016419e-7786-4c0...|2019-10-30|           1|            3|\n",
      "+--------------------+----------+----------+-------------------+--------------------+-------+-------+---------+--------------------+----------+------------+-------------+\n",
      "only showing top 5 rows\n",
      "\n"
     ]
    },
    {
     "name": "stderr",
     "output_type": "stream",
     "text": [
      "                                                                                \r"
     ]
    }
   ],
   "source": [
    "df_targets.show(5)"
   ]
  },
  {
   "cell_type": "code",
   "execution_count": 130,
   "metadata": {},
   "outputs": [
    {
     "name": "stdout",
     "output_type": "stream",
     "text": [
      "+--------------------+----------+----------+-------------------+--------------------+------+-------+---------+--------------------+----------+--------------------+--------------------+\n",
      "|          event_time|event_type|product_id|        category_id|       category_code| brand|  price|  user_id|        user_session|event_date|category_code_level1|category_code_level2|\n",
      "+--------------------+----------+----------+-------------------+--------------------+------+-------+---------+--------------------+----------+--------------------+--------------------+\n",
      "|2019-10-01 00:00:...|      view|   3900821|2053013552326770905|appliances.enviro...|  aqua|  33.20|554748717|9333dfbd-b87a-470...|2019-10-01|appliances.enviro...|                NULL|\n",
      "|2019-10-01 00:00:...|      view|   1307067|2053013558920217191|  computers.notebook|lenovo| 251.74|550050854|7c90fc70-0e80-459...|2019-10-01|  computers.notebook|                NULL|\n",
      "|2019-10-01 00:00:...|      view|   1004237|2053013555631882655|electronics.smart...| apple|1081.98|535871217|c6bd7419-2748-4c5...|2019-10-01|electronics.smart...|                NULL|\n",
      "|2019-10-01 00:00:...|      view|   1480613|2053013561092866779|   computers.desktop|pulser| 908.62|512742880|0d0d91c2-c9c2-4e8...|2019-10-01|   computers.desktop|                NULL|\n",
      "|2019-10-01 00:00:...|      view|  28719074|2053013565480109009|  apparel.shoes.keds| baden| 102.71|520571932|ac1cd4e5-a3ce-422...|2019-10-01|  apparel.shoes.keds|                NULL|\n",
      "+--------------------+----------+----------+-------------------+--------------------+------+-------+---------+--------------------+----------+--------------------+--------------------+\n",
      "only showing top 5 rows\n",
      "\n"
     ]
    }
   ],
   "source": [
    "df_targets.show(5)"
   ]
  },
  {
   "cell_type": "code",
   "execution_count": 29,
   "metadata": {},
   "outputs": [],
   "source": [
    "df_targets = df_targets.join(activity_in_session, on=\"user_session\", how=\"left\")"
   ]
  },
  {
   "cell_type": "code",
   "execution_count": 138,
   "metadata": {},
   "outputs": [
    {
     "name": "stderr",
     "output_type": "stream",
     "text": [
      "                                                                                \r"
     ]
    },
    {
     "name": "stdout",
     "output_type": "stream",
     "text": [
      "+--------------------+--------------------+----------+----------+-------------------+--------------------+-------+------+---------+----------+------------+-------------+--------------+\n",
      "|        user_session|          event_time|event_type|product_id|        category_id|       category_code|  brand| price|  user_id|event_date|is_purchased|event_weekday|activity_count|\n",
      "+--------------------+--------------------+----------+----------+-------------------+--------------------+-------+------+---------+----------+------------+-------------+--------------+\n",
      "|000081ea-9376-4eb...|2019-10-24 09:06:...|      cart|   1004856|2053013555631882655|electronics.smart...|samsung|131.51|513622224|2019-10-24|           1|            4|             3|\n",
      "|000174ac-0ea3-402...|2019-10-18 10:45:...|      cart|   1004767|2053013555631882655|electronics.smart...|samsung|249.86|548449052|2019-10-18|           1|            5|             9|\n",
      "|00023d48-1798-4d1...|2019-10-16 01:24:...|      cart|   4804295|2053013554658804075|electronics.audio...| xiaomi| 22.99|556007921|2019-10-16|           0|            3|             2|\n",
      "|0002b07c-85cd-46e...|2019-10-14 09:16:...|      cart|   1004776|2053013555631882655|electronics.smart...| xiaomi|183.27|553453794|2019-10-14|           1|            1|            22|\n",
      "|0004400f-dc39-410...|2019-10-16 05:24:...|      cart|   1005098|2053013555631882655|electronics.smart...|samsung|143.63|550005829|2019-10-16|           1|            3|             5|\n",
      "+--------------------+--------------------+----------+----------+-------------------+--------------------+-------+------+---------+----------+------------+-------------+--------------+\n",
      "only showing top 5 rows\n",
      "\n"
     ]
    }
   ],
   "source": [
    "df_targets.show(5)"
   ]
  },
  {
   "cell_type": "code",
   "execution_count": 30,
   "metadata": {},
   "outputs": [
    {
     "name": "stdout",
     "output_type": "stream",
     "text": [
      "root\n",
      " |-- user_session: string (nullable = true)\n",
      " |-- event_time: string (nullable = true)\n",
      " |-- event_type: string (nullable = true)\n",
      " |-- product_id: string (nullable = true)\n",
      " |-- category_id: string (nullable = true)\n",
      " |-- category_code: string (nullable = true)\n",
      " |-- brand: string (nullable = true)\n",
      " |-- price: string (nullable = true)\n",
      " |-- user_id: string (nullable = true)\n",
      " |-- event_date: date (nullable = true)\n",
      " |-- is_purchased: integer (nullable = true)\n",
      " |-- event_weekday: integer (nullable = true)\n",
      " |-- activity_count: long (nullable = true)\n",
      "\n"
     ]
    }
   ],
   "source": [
    "df_targets.printSchema()"
   ]
  },
  {
   "cell_type": "code",
   "execution_count": 31,
   "metadata": {},
   "outputs": [],
   "source": [
    "df_targets = df_targets.withColumn(\"price\", F.col(\"price\").cast(DoubleType()))"
   ]
  },
  {
   "cell_type": "code",
   "execution_count": 32,
   "metadata": {},
   "outputs": [
    {
     "name": "stdout",
     "output_type": "stream",
     "text": [
      "root\n",
      " |-- user_session: string (nullable = true)\n",
      " |-- event_time: string (nullable = true)\n",
      " |-- event_type: string (nullable = true)\n",
      " |-- product_id: string (nullable = true)\n",
      " |-- category_id: string (nullable = true)\n",
      " |-- category_code: string (nullable = true)\n",
      " |-- brand: string (nullable = true)\n",
      " |-- price: double (nullable = true)\n",
      " |-- user_id: string (nullable = true)\n",
      " |-- event_date: date (nullable = true)\n",
      " |-- is_purchased: integer (nullable = true)\n",
      " |-- event_weekday: integer (nullable = true)\n",
      " |-- activity_count: long (nullable = true)\n",
      "\n"
     ]
    }
   ],
   "source": [
    "df_targets.printSchema()"
   ]
  },
  {
   "cell_type": "code",
   "execution_count": 143,
   "metadata": {},
   "outputs": [
    {
     "name": "stderr",
     "output_type": "stream",
     "text": [
      "                                                                                \r"
     ]
    },
    {
     "data": {
      "text/plain": [
       "273909"
      ]
     },
     "execution_count": 143,
     "metadata": {},
     "output_type": "execute_result"
    }
   ],
   "source": [
    "is_purcahase_set = df_targets[df_targets['is_purchased']== 1]\n",
    "is_purcahase_set.count()"
   ]
  },
  {
   "cell_type": "code",
   "execution_count": 144,
   "metadata": {},
   "outputs": [
    {
     "name": "stderr",
     "output_type": "stream",
     "text": [
      "                                                                                \r"
     ]
    },
    {
     "data": {
      "text/plain": [
       "272691"
      ]
     },
     "execution_count": 144,
     "metadata": {},
     "output_type": "execute_result"
    }
   ],
   "source": [
    "not_purcahase_set = df_targets[df_targets['is_purchased']== 0]\n",
    "not_purcahase_set.count()"
   ]
  },
  {
   "cell_type": "code",
   "execution_count": 33,
   "metadata": {},
   "outputs": [],
   "source": [
    "database_name = \"lopin_database2\""
   ]
  },
  {
   "cell_type": "code",
   "execution_count": 34,
   "metadata": {},
   "outputs": [],
   "source": [
    "spark.catalog.setCurrentDatabase(database_name)"
   ]
  },
  {
   "cell_type": "code",
   "execution_count": 35,
   "metadata": {},
   "outputs": [
    {
     "name": "stderr",
     "output_type": "stream",
     "text": [
      "                                                                                \r"
     ]
    }
   ],
   "source": [
    "df_targets.writeTo(\"sobd_lab2\").using(\"iceberg\").create()"
   ]
  },
  {
   "cell_type": "code",
   "execution_count": 36,
   "metadata": {},
   "outputs": [
    {
     "name": "stdout",
     "output_type": "stream",
     "text": [
      "sobd_lab1_processed_table\n",
      "sobd_lab2\n",
      "sobd_lab1_table\n"
     ]
    }
   ],
   "source": [
    "for table in spark.catalog.listTables():\n",
    "    print(table.name)"
   ]
  },
  {
   "cell_type": "code",
   "execution_count": 37,
   "metadata": {},
   "outputs": [],
   "source": [
    "spark.stop()"
   ]
  }
 ],
 "metadata": {
  "kernelspec": {
   "display_name": "pyspark-env",
   "language": "python",
   "name": "python3"
  },
  "language_info": {
   "codemirror_mode": {
    "name": "ipython",
    "version": 3
   },
   "file_extension": ".py",
   "mimetype": "text/x-python",
   "name": "python",
   "nbconvert_exporter": "python",
   "pygments_lexer": "ipython3",
   "version": "3.11.9"
  }
 },
 "nbformat": 4,
 "nbformat_minor": 2
}
